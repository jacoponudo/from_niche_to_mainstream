{
 "cells": [
  {
   "cell_type": "markdown",
   "metadata": {},
   "source": [
    "## Read Facebook"
   ]
  },
  {
   "cell_type": "code",
   "execution_count": 84,
   "metadata": {},
   "outputs": [],
   "source": [
    "from tools.to_read import *\n",
    "from tools.to_plot import *\n",
    "from tools.to_do import *\n",
    "import pandas as pd\n",
    "import numpy as np\n",
    "import matplotlib.pyplot as plt\n",
    "from tqdm import tqdm\n",
    "import seaborn as sns\n",
    "from matplotlib.colors import LinearSegmentedColormap\n",
    "import matplotlib.image as mpimg\n",
    "\n",
    "platform='facebook'\n",
    "root = '/home/jacoponudo/Documents/Size_effects/' \n",
    "data = pd.read_parquet(root + 'DATA/' + platform + '/' + platform + '_raw_data.parquet')\n",
    "data.rename(columns={\n",
    "    'topic': 'page_id',\n",
    "    'from_id': 'user_id',  # This remains the same\n",
    "    'post_id': 'post_id',  # This remains the same\n",
    "    'created_time': 'timestamp'\n",
    "}, inplace=True)"
   ]
  },
  {
   "cell_type": "markdown",
   "metadata": {},
   "source": [
    "## Read Facebook"
   ]
  },
  {
   "cell_type": "code",
   "execution_count": 1,
   "metadata": {},
   "outputs": [
    {
     "name": "stderr",
     "output_type": "stream",
     "text": [
      "/home/jacoponudo/.local/lib/python3.10/site-packages/matplotlib/projections/__init__.py:63: UserWarning: Unable to import Axes3D. This may be due to multiple versions of Matplotlib being installed (e.g. as a system package and as a pip package). As a result, the 3D projection is not available.\n",
      "  warnings.warn(\"Unable to import Axes3D. This may be due to multiple versions of \"\n"
     ]
    }
   ],
   "source": [
    "from tools.to_read import *\n",
    "from tools.to_plot import *\n",
    "from tools.to_do import *\n",
    "import pandas as pd\n",
    "import numpy as np\n",
    "import matplotlib.pyplot as plt\n",
    "from tqdm import tqdm\n",
    "import seaborn as sns\n",
    "from matplotlib.colors import LinearSegmentedColormap\n",
    "import matplotlib.image as mpimg\n",
    "platform='twitter'\n",
    "root = '/home/jacoponudo/Documents/Size_effects/' \n",
    "data = pd.read_parquet(root + 'DATA/' + platform + '/' + platform + '_raw_data.parquet')\n",
    "data.rename(columns={\n",
    "    'topic': 'page_id',\n",
    "    'author_id': 'user_id',  # This remains the same\n",
    "    'post_id': 'post_id',  # This remains the same\n",
    "    'created_at': 'timestamp'\n",
    "}, inplace=True)"
   ]
  },
  {
   "cell_type": "markdown",
   "metadata": {},
   "source": [
    "## Read Reddit"
   ]
  },
  {
   "cell_type": "code",
   "execution_count": 94,
   "metadata": {},
   "outputs": [
    {
     "data": {
      "text/html": [
       "<div>\n",
       "<style scoped>\n",
       "    .dataframe tbody tr th:only-of-type {\n",
       "        vertical-align: middle;\n",
       "    }\n",
       "\n",
       "    .dataframe tbody tr th {\n",
       "        vertical-align: top;\n",
       "    }\n",
       "\n",
       "    .dataframe thead th {\n",
       "        text-align: right;\n",
       "    }\n",
       "</style>\n",
       "<table border=\"1\" class=\"dataframe\">\n",
       "  <thead>\n",
       "    <tr style=\"text-align: right;\">\n",
       "      <th></th>\n",
       "      <th>page_id</th>\n",
       "      <th>user_id</th>\n",
       "      <th>post_id</th>\n",
       "      <th>timestamp</th>\n",
       "    </tr>\n",
       "  </thead>\n",
       "  <tbody>\n",
       "    <tr>\n",
       "      <th>0</th>\n",
       "      <td>climatechange</td>\n",
       "      <td>t2_6l4z3</td>\n",
       "      <td>7ndth3</td>\n",
       "      <td>2018-01-01 06:49:06+00:00</td>\n",
       "    </tr>\n",
       "    <tr>\n",
       "      <th>1</th>\n",
       "      <td>climatechange</td>\n",
       "      <td>t2_wiu0</td>\n",
       "      <td>7ne93z</td>\n",
       "      <td>2018-01-01 09:59:09+00:00</td>\n",
       "    </tr>\n",
       "    <tr>\n",
       "      <th>2</th>\n",
       "      <td>climatechange</td>\n",
       "      <td>t2_mwmugwc</td>\n",
       "      <td>7nf0fb</td>\n",
       "      <td>2018-01-01 12:54:33+00:00</td>\n",
       "    </tr>\n",
       "    <tr>\n",
       "      <th>3</th>\n",
       "      <td>climatechange</td>\n",
       "      <td>t2_eq6o6</td>\n",
       "      <td>7ne93z</td>\n",
       "      <td>2018-01-01 13:58:32+00:00</td>\n",
       "    </tr>\n",
       "    <tr>\n",
       "      <th>4</th>\n",
       "      <td>climatechange</td>\n",
       "      <td>t2_51cb9</td>\n",
       "      <td>7ne93z</td>\n",
       "      <td>2018-01-01 14:41:15+00:00</td>\n",
       "    </tr>\n",
       "    <tr>\n",
       "      <th>...</th>\n",
       "      <td>...</td>\n",
       "      <td>...</td>\n",
       "      <td>...</td>\n",
       "      <td>...</td>\n",
       "    </tr>\n",
       "    <tr>\n",
       "      <th>1853618</th>\n",
       "      <td>vaccines</td>\n",
       "      <td>t2_cu1l3alr</td>\n",
       "      <td>o5l0n8</td>\n",
       "      <td>2022-11-02 04:24:47+00:00</td>\n",
       "    </tr>\n",
       "    <tr>\n",
       "      <th>1853619</th>\n",
       "      <td>vaccines</td>\n",
       "      <td>t2_6l4z3</td>\n",
       "      <td>o5l0n8</td>\n",
       "      <td>2022-11-06 03:12:37+00:00</td>\n",
       "    </tr>\n",
       "    <tr>\n",
       "      <th>1853620</th>\n",
       "      <td>vaccines</td>\n",
       "      <td>t2_qsub24zn</td>\n",
       "      <td>o5l0n8</td>\n",
       "      <td>2022-11-06 03:17:14+00:00</td>\n",
       "    </tr>\n",
       "    <tr>\n",
       "      <th>1853621</th>\n",
       "      <td>vaccines</td>\n",
       "      <td>t2_2bbv0vl9</td>\n",
       "      <td>o5l0n8</td>\n",
       "      <td>2022-11-06 15:03:29+00:00</td>\n",
       "    </tr>\n",
       "    <tr>\n",
       "      <th>1853622</th>\n",
       "      <td>vaccines</td>\n",
       "      <td>t2_qsub24zn</td>\n",
       "      <td>o5l0n8</td>\n",
       "      <td>2022-11-06 15:47:14+00:00</td>\n",
       "    </tr>\n",
       "  </tbody>\n",
       "</table>\n",
       "<p>1853623 rows × 4 columns</p>\n",
       "</div>"
      ],
      "text/plain": [
       "               page_id      user_id post_id                 timestamp\n",
       "0        climatechange     t2_6l4z3  7ndth3 2018-01-01 06:49:06+00:00\n",
       "1        climatechange      t2_wiu0  7ne93z 2018-01-01 09:59:09+00:00\n",
       "2        climatechange   t2_mwmugwc  7nf0fb 2018-01-01 12:54:33+00:00\n",
       "3        climatechange     t2_eq6o6  7ne93z 2018-01-01 13:58:32+00:00\n",
       "4        climatechange     t2_51cb9  7ne93z 2018-01-01 14:41:15+00:00\n",
       "...                ...          ...     ...                       ...\n",
       "1853618       vaccines  t2_cu1l3alr  o5l0n8 2022-11-02 04:24:47+00:00\n",
       "1853619       vaccines     t2_6l4z3  o5l0n8 2022-11-06 03:12:37+00:00\n",
       "1853620       vaccines  t2_qsub24zn  o5l0n8 2022-11-06 03:17:14+00:00\n",
       "1853621       vaccines  t2_2bbv0vl9  o5l0n8 2022-11-06 15:03:29+00:00\n",
       "1853622       vaccines  t2_qsub24zn  o5l0n8 2022-11-06 15:47:14+00:00\n",
       "\n",
       "[1853623 rows x 4 columns]"
      ]
     },
     "execution_count": 94,
     "metadata": {},
     "output_type": "execute_result"
    }
   ],
   "source": [
    "import pandas as pd\n",
    "\n",
    "root = '/home/jacoponudo/Documents/Size_effects/'\n",
    "platform='reddit'\n",
    "df = pd.read_parquet(root + 'DATA/' + platform + '/' + platform + '_raw_data.parquet',columns=['topic','user_id','post_id','date'])\n",
    "\n",
    "df.rename(columns={\n",
    "    'topic': 'page_id',\n",
    "    'user_id': 'user_id',  # This remains the same\n",
    "    'post_id': 'post_id',  # This remains the same\n",
    "    'date': 'timestamp'\n",
    "}, inplace=True)\n",
    "data=df\n",
    "data"
   ]
  },
  {
   "cell_type": "markdown",
   "metadata": {},
   "source": [
    "## Read Voat"
   ]
  },
  {
   "cell_type": "code",
   "execution_count": 95,
   "metadata": {},
   "outputs": [],
   "source": [
    "from tools.to_read import *\n",
    "from tools.to_plot import *\n",
    "from tools.to_do import *\n",
    "import pandas as pd\n",
    "import numpy as np\n",
    "import matplotlib.pyplot as plt\n",
    "from tqdm import tqdm\n",
    "import seaborn as sns\n",
    "from matplotlib.colors import LinearSegmentedColormap\n",
    "import matplotlib.image as mpimg\n",
    "root = '/home/jacoponudo/Documents/Size_effects/'\n",
    "platform='voat'\n",
    "df = pd.read_parquet(root + 'DATA/' + platform + '/' + platform + '_raw_data.parquet',columns=['topic','user','root_submission','created_at'])\n",
    "\n",
    "df.rename(columns={\n",
    "    'topic': 'page_id',\n",
    "    'user': 'user_id',  # This remains the same\n",
    "    'root_submission': 'post_id',  # This remains the same\n",
    "    'created_at': 'timestamp'\n",
    "}, inplace=True)\n",
    "data=df"
   ]
  },
  {
   "cell_type": "markdown",
   "metadata": {},
   "source": [
    "## Processing"
   ]
  },
  {
   "cell_type": "code",
   "execution_count": 97,
   "metadata": {},
   "outputs": [
    {
     "name": "stderr",
     "output_type": "stream",
     "text": [
      "/tmp/ipykernel_14007/391598808.py:6: UserWarning: Converting to PeriodArray/Index representation will drop timezone information.\n",
      "  df['week'] = df['timestamp'].dt.to_period('d')\n"
     ]
    },
    {
     "name": "stdout",
     "output_type": "stream",
     "text": [
      "      page_id        week  unique_users_count  smoothed_users_count\n",
      "0  Conspiracy  2018-01-09                   4              4.000000\n",
      "1  Conspiracy  2018-01-10                   3              3.500000\n",
      "2  Conspiracy  2018-01-11                  12              6.333333\n",
      "3  Conspiracy  2018-01-12                   6              6.250000\n",
      "4  Conspiracy  2018-01-13                   8              6.600000\n"
     ]
    }
   ],
   "source": [
    "df=data\n",
    "# Assicurati che la colonna 'timestamp' sia di tipo datetime\n",
    "df['timestamp'] = pd.to_datetime(df['timestamp'])\n",
    "\n",
    "# Aggiungi una colonna 'week' che rappresenta la settimana dell'anno\n",
    "df['week'] = df['timestamp'].dt.to_period('d')\n",
    "\n",
    "\n",
    "# Raggruppa per 'page_id', 'week' e calcola il numero di utenti univoci per ogni combinazione\n",
    "weekly_unique_users = df.groupby(['page_id', 'week'])['user_id'].nunique().reset_index()\n",
    "\n",
    "\n",
    "\n",
    "# Rinominare la colonna per maggiore chiarezza\n",
    "weekly_unique_users.rename(columns={'user_id': 'unique_users_count'}, inplace=True)\n",
    "\n",
    "# Ordinare per 'page_id' e 'week' (assicurarsi che i dati siano in ordine)\n",
    "weekly_unique_users = weekly_unique_users.sort_values(by=['page_id', 'week'])\n",
    "\n",
    "# Aggiungere la media mobile a 3 settimane (o a una finestra che preferisci)\n",
    "weekly_unique_users['smoothed_users_count'] = weekly_unique_users.groupby('page_id')['unique_users_count'].rolling(window=30, min_periods=1).mean().reset_index(level=0, drop=True)\n",
    "\n",
    "# Mostrare i primi risultati\n",
    "print(weekly_unique_users.head())\n",
    "\n",
    "weekly_unique_users.to_csv(\"/home/jacoponudo/Documents/Size_effects/PAPER/output/4_section/ts_outreach.csv\", index=False)"
   ]
  },
  {
   "cell_type": "markdown",
   "metadata": {},
   "source": [
    "## Verbosity - Method 1"
   ]
  },
  {
   "cell_type": "code",
   "execution_count": 109,
   "metadata": {},
   "outputs": [
    {
     "name": "stderr",
     "output_type": "stream",
     "text": [
      "/tmp/ipykernel_14007/677518029.py:10: UserWarning: Converting to PeriodArray/Index representation will drop timezone information.\n",
      "  posts['week'] = posts['timestamp'].dt.to_period('d')\n"
     ]
    }
   ],
   "source": [
    "\n",
    "\n",
    "from tools.to_do import *\n",
    "\n",
    "# Raggruppiamo per 'post_id' e 'page_id' e otteniamo il timestamp minimo per ogni gruppo\n",
    "posts = data.groupby(['post_id', 'page_id'])['timestamp'].min().reset_index()\n",
    "\n",
    "# Convertiamo 'timestamp' in formato datetime\n",
    "posts['timestamp'] = pd.to_datetime(posts['timestamp'])\n",
    "\n",
    "# Creiamo una colonna 'week' che rappresenta la settimana del 'timestamp'\n",
    "posts['week'] = posts['timestamp'].dt.to_period('d')\n",
    "\n",
    "# Raggruppiamo per 'user_id' e 'post_id' per calcolare il numero di commenti per ogni post\n",
    "comments = data.groupby(['user_id', 'post_id']).size().reset_index(name='comment_count')\n",
    "\n",
    "# Impostiamo un limite per i commenti (se ci sono più di 5 commenti, li limitamo a 5)\n",
    "comments['comment_count'] = comments['comment_count'].apply(lambda x: 5 if x > 5 else x)\n",
    "\n",
    "# Calcoliamo la distribuzione di probabilità dei commenti per ogni post\n",
    "prob_dist = comments.groupby(['post_id'])['comment_count'].value_counts(normalize=True)\n",
    "\n",
    "# Calcoliamo il parametro di localizzazione per ogni post_id\n",
    "localization_results = prob_dist.groupby(['post_id']).apply(lambda x: calculate_localization_parameter(x.values)).reset_index(name='localization_parameter')\n",
    "\n",
    "# Aggiungiamo la colonna 'localization_parameter' al DataFrame 'posts' tramite un merge su 'post_id'\n",
    "posts = posts.merge(localization_results[['post_id', 'localization_parameter']], on='post_id', how='left')\n",
    "\n",
    " \n"
   ]
  },
  {
   "cell_type": "markdown",
   "metadata": {},
   "source": [
    "## Verbosity - Method 2"
   ]
  },
  {
   "cell_type": "code",
   "execution_count": 98,
   "metadata": {},
   "outputs": [
    {
     "name": "stderr",
     "output_type": "stream",
     "text": [
      "/tmp/ipykernel_14007/2513271468.py:10: UserWarning: Converting to PeriodArray/Index representation will drop timezone information.\n",
      "  posts['week'] = posts['timestamp'].dt.to_period('d')\n"
     ]
    },
    {
     "data": {
      "text/html": [
       "<div>\n",
       "<style scoped>\n",
       "    .dataframe tbody tr th:only-of-type {\n",
       "        vertical-align: middle;\n",
       "    }\n",
       "\n",
       "    .dataframe tbody tr th {\n",
       "        vertical-align: top;\n",
       "    }\n",
       "\n",
       "    .dataframe thead th {\n",
       "        text-align: right;\n",
       "    }\n",
       "</style>\n",
       "<table border=\"1\" class=\"dataframe\">\n",
       "  <thead>\n",
       "    <tr style=\"text-align: right;\">\n",
       "      <th></th>\n",
       "      <th>page_id</th>\n",
       "      <th>post_id</th>\n",
       "      <th>week</th>\n",
       "      <th>is_last_comment</th>\n",
       "    </tr>\n",
       "  </thead>\n",
       "  <tbody>\n",
       "    <tr>\n",
       "      <th>0</th>\n",
       "      <td>Conspiracy</td>\n",
       "      <td>0</td>\n",
       "      <td>2018-01-30</td>\n",
       "      <td>1.0</td>\n",
       "    </tr>\n",
       "    <tr>\n",
       "      <th>1</th>\n",
       "      <td>Conspiracy</td>\n",
       "      <td>0</td>\n",
       "      <td>2018-03-11</td>\n",
       "      <td>1.0</td>\n",
       "    </tr>\n",
       "    <tr>\n",
       "      <th>2</th>\n",
       "      <td>Conspiracy</td>\n",
       "      <td>0</td>\n",
       "      <td>2018-04-07</td>\n",
       "      <td>0.0</td>\n",
       "    </tr>\n",
       "    <tr>\n",
       "      <th>3</th>\n",
       "      <td>Conspiracy</td>\n",
       "      <td>0</td>\n",
       "      <td>2018-04-13</td>\n",
       "      <td>1.0</td>\n",
       "    </tr>\n",
       "    <tr>\n",
       "      <th>4</th>\n",
       "      <td>Conspiracy</td>\n",
       "      <td>0</td>\n",
       "      <td>2018-07-21</td>\n",
       "      <td>1.0</td>\n",
       "    </tr>\n",
       "    <tr>\n",
       "      <th>...</th>\n",
       "      <td>...</td>\n",
       "      <td>...</td>\n",
       "      <td>...</td>\n",
       "      <td>...</td>\n",
       "    </tr>\n",
       "    <tr>\n",
       "      <th>582709</th>\n",
       "      <td>Politics</td>\n",
       "      <td>999945</td>\n",
       "      <td>2016-04-24</td>\n",
       "      <td>0.0</td>\n",
       "    </tr>\n",
       "    <tr>\n",
       "      <th>582710</th>\n",
       "      <td>Politics</td>\n",
       "      <td>999945</td>\n",
       "      <td>2016-04-26</td>\n",
       "      <td>0.0</td>\n",
       "    </tr>\n",
       "    <tr>\n",
       "      <th>582711</th>\n",
       "      <td>Politics</td>\n",
       "      <td>999945</td>\n",
       "      <td>2016-04-30</td>\n",
       "      <td>0.5</td>\n",
       "    </tr>\n",
       "    <tr>\n",
       "      <th>582712</th>\n",
       "      <td>Politics</td>\n",
       "      <td>999945</td>\n",
       "      <td>2016-05-02</td>\n",
       "      <td>1.0</td>\n",
       "    </tr>\n",
       "    <tr>\n",
       "      <th>582713</th>\n",
       "      <td>Politics</td>\n",
       "      <td>999977</td>\n",
       "      <td>2016-04-23</td>\n",
       "      <td>1.0</td>\n",
       "    </tr>\n",
       "  </tbody>\n",
       "</table>\n",
       "<p>582714 rows × 4 columns</p>\n",
       "</div>"
      ],
      "text/plain": [
       "           page_id post_id        week  is_last_comment\n",
       "0       Conspiracy       0  2018-01-30              1.0\n",
       "1       Conspiracy       0  2018-03-11              1.0\n",
       "2       Conspiracy       0  2018-04-07              0.0\n",
       "3       Conspiracy       0  2018-04-13              1.0\n",
       "4       Conspiracy       0  2018-07-21              1.0\n",
       "...            ...     ...         ...              ...\n",
       "582709    Politics  999945  2016-04-24              0.0\n",
       "582710    Politics  999945  2016-04-26              0.0\n",
       "582711    Politics  999945  2016-04-30              0.5\n",
       "582712    Politics  999945  2016-05-02              1.0\n",
       "582713    Politics  999977  2016-04-23              1.0\n",
       "\n",
       "[582714 rows x 4 columns]"
      ]
     },
     "execution_count": 98,
     "metadata": {},
     "output_type": "execute_result"
    }
   ],
   "source": [
    "\n",
    "\n",
    "from tools.to_do import *\n",
    "\n",
    "# Raggruppiamo per 'post_id' e 'page_id' e otteniamo il timestamp minimo per ogni gruppo\n",
    "posts = data.groupby(['post_id', 'page_id'])['timestamp'].min().reset_index()\n",
    "\n",
    "# Convertiamo 'timestamp' in formato datetime\n",
    "posts['timestamp'] = pd.to_datetime(posts['timestamp'])\n",
    "\n",
    "# Creiamo una colonna 'week' che rappresenta la settimana del 'timestamp'\n",
    "posts['week'] = posts['timestamp'].dt.to_period('d')\n",
    "\n",
    "# Raggruppiamo per 'user_id' e 'post_id' per calcolare il numero di commenti per ogni post\n",
    "# Grouping by 'user_id' and 'post_id' to count the comments\n",
    "# Sorting comments by user_id and post_id\n",
    "data = data.sort_values(by=['user_id', 'post_id', 'timestamp'])\n",
    "\n",
    "# Adding comment count for each user and post\n",
    "data = data.merge(data.groupby(['user_id', 'post_id']).size().reset_index(name='comment_count')[['user_id', 'post_id', 'comment_count']], on=['user_id', 'post_id'], how='left')\n",
    "\n",
    "# Marking the last comment for each user and post\n",
    "data['is_last_comment'] = data.groupby(['user_id', 'post_id'])['timestamp'].transform('last') == data['timestamp']\n",
    "posts = data.groupby(['page_id', 'post_id', 'week'])['is_last_comment'].mean().reset_index()\n",
    "posts"
   ]
  },
  {
   "cell_type": "markdown",
   "metadata": {},
   "source": [
    "## Merge"
   ]
  },
  {
   "cell_type": "code",
   "execution_count": 99,
   "metadata": {},
   "outputs": [
    {
     "name": "stdout",
     "output_type": "stream",
     "text": [
      "           page_id        week  unique_users_count  smoothed_users_count  \\\n",
      "0       Conspiracy  2018-01-30                  39             16.636364   \n",
      "1       Conspiracy  2018-03-11                  52             41.933333   \n",
      "2       Conspiracy  2018-04-07                  74             50.333333   \n",
      "3       Conspiracy  2018-04-13                  52             50.633333   \n",
      "4       Conspiracy  2018-07-21                  37             44.166667   \n",
      "...            ...         ...                 ...                   ...   \n",
      "582709    Politics  2016-04-24                 125            183.866667   \n",
      "582710    Politics  2016-04-26                 197            183.166667   \n",
      "582711    Politics  2016-04-30                 137            174.100000   \n",
      "582712    Politics  2016-05-02                 149            173.833333   \n",
      "582713    Politics  2016-04-23                 104            189.633333   \n",
      "\n",
      "       post_id  is_last_comment  \n",
      "0            0              1.0  \n",
      "1            0              1.0  \n",
      "2            0              0.0  \n",
      "3            0              1.0  \n",
      "4            0              1.0  \n",
      "...        ...              ...  \n",
      "582709  999945              0.0  \n",
      "582710  999945              0.0  \n",
      "582711  999945              0.5  \n",
      "582712  999945              1.0  \n",
      "582713  999977              1.0  \n",
      "\n",
      "[582714 rows x 6 columns]\n"
     ]
    }
   ],
   "source": [
    "merged_df = pd.merge(weekly_unique_users, posts, on=['page_id',  'week'], how='right')\n",
    "\n",
    "# 'how' può essere 'inner', 'left', 'right' o 'outer' a seconda di come vuoi che vengano gestiti i valori non corrispondenti\n",
    "\n",
    "# Mostriamo il risultato del merge\n",
    "print(merged_df)\n"
   ]
  },
  {
   "cell_type": "markdown",
   "metadata": {},
   "source": [
    "## Plot"
   ]
  },
  {
   "cell_type": "code",
   "execution_count": 108,
   "metadata": {},
   "outputs": [
    {
     "data": {
      "image/png": "[encoded data removed]",
      "text/plain": [
       "<Figure size 1000x600 with 1 Axes>"
      ]
     },
     "metadata": {},
     "output_type": "display_data"
    }
   ],
   "source": [
    "import matplotlib.pyplot as plt\n",
    "import pandas as pd\n",
    "import numpy as np\n",
    "\n",
    "# Creazione dei bins logaritmici\n",
    "bin_start = 20\n",
    "bin_end =500\n",
    "\n",
    "# Calcolare i limiti dei bins utilizzando logaritmi (log base 10)\n",
    "bins = np.logspace(np.log10(bin_start), np.log10(bin_end), num=10)\n",
    "\n",
    "# Aggiunta di una colonna per il bin in cui si trova ogni valore\n",
    "merged_df['binned'] = pd.cut(merged_df['smoothed_users_count'], bins, right=False)\n",
    "\n",
    "# Filtriamo i bins che hanno meno di 100 osservazioni\n",
    "binned_counts = merged_df['binned'].value_counts()\n",
    "valid_bins = binned_counts[binned_counts >= 100].index\n",
    "\n",
    "# Ordiniamo i bins in base al limite sinistro\n",
    "valid_bins = sorted(valid_bins, key=lambda bin_: bin_.left)\n",
    "\n",
    "# Calcolo del valore medio di 'localization_parameter' per ogni bin valido\n",
    "mean_values = [\n",
    "    merged_df[merged_df['binned'] == bin_]['is_last_comment'].mean()\n",
    "    for bin_ in valid_bins\n",
    "]\n",
    "\n",
    "# Creazione del line plot\n",
    "plt.figure(figsize=(10, 6))\n",
    "\n",
    "# Disegno del grafico a linee\n",
    "plt.plot(np.arange(len(valid_bins)), mean_values, marker='o', linestyle='-')\n",
    "\n",
    "# Etichette per i bins\n",
    "bin_labels = [f'{int(bin_.left)} - {int(bin_.right)}' for bin_ in valid_bins]\n",
    "plt.xticks(np.arange(len(valid_bins)), bin_labels, rotation=45)\n",
    "\n",
    "# Aggiunta delle etichette agli assi\n",
    "plt.xlabel('Bins based on Smoothed Users Count (log scale)')\n",
    "plt.ylabel('Average Localization Parameter')\n",
    "\n",
    "# Titolo del grafico\n",
    "plt.title('Line Plot of Average Localization Parameter for Each Valid Bin of Smoothed Users Count')\n",
    "\n",
    "# Mostra il grafico\n",
    "plt.tight_layout()\n",
    "plt.show()\n"
   ]
  }
 ],
 "metadata": {
  "kernelspec": {
   "display_name": "Python 3",
   "language": "python",
   "name": "python3"
  },
  "language_info": {
   "codemirror_mode": {
    "name": "ipython",
    "version": 3
   },
   "file_extension": ".py",
   "mimetype": "text/x-python",
   "name": "python",
   "nbconvert_exporter": "python",
   "pygments_lexer": "ipython3",
   "version": "3.10.12"
  }
 },
 "nbformat": 4,
 "nbformat_minor": 2
}
