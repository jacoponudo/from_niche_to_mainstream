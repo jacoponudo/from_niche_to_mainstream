{
 "cells": [
  {
   "cell_type": "code",
   "execution_count": 3,
   "metadata": {},
   "outputs": [],
   "source": [
    "# Import packages\n",
    "from tools.to_read import *\n",
    "from tools.to_plot import *\n",
    "from tools.to_do import *\n",
    "import pandas as pd\n",
    "import numpy as np\n",
    "import matplotlib.pyplot as plt\n",
    "from tqdm import tqdm\n",
    "import seaborn as sns\n",
    "from matplotlib.colors import LinearSegmentedColormap\n",
    "\n",
    "# Set up\n",
    "root='/home/jacoponudo/Documents/Size_effects/'\n"
   ]
  },
  {
   "cell_type": "markdown",
   "metadata": {},
   "source": [
    "# Power Law distribution"
   ]
  },
  {
   "cell_type": "markdown",
   "metadata": {},
   "source": [
    "#### Fitta le power law"
   ]
  },
  {
   "cell_type": "code",
   "execution_count": 38,
   "metadata": {},
   "outputs": [
    {
     "name": "stdout",
     "output_type": "stream",
     "text": [
      "Calculating best minimal value for power law fit\n",
      "xmin progress: 99%\n",
      "Platform: gab\n",
      "Alpha: 3.5292471415993325\n",
      "Sigma: 0.03858411923607005\n",
      "D: 0.02201761290675619\n",
      "Comparison between Power Law and Exponential: (233.1645088637785, 5.17112302132254e-09)\n",
      "Calculating best minimal value for power law fit\n",
      "xmin progress: 99%\n",
      "Platform: reddit\n",
      "Alpha: 1.988425228237548\n",
      "Sigma: 0.006076205998567572\n",
      "D: 0.02561273260329\n",
      "Comparison between Power Law and Exponential: (9944.559997522074, 0.0)\n",
      "Calculating best minimal value for power law fit\n",
      "xmin progress: 99%\n",
      "Platform: twitter\n",
      "Alpha: 2.6312335950842725\n",
      "Sigma: 0.03133513078484209\n",
      "D: 0.023856980860095134\n",
      "Comparison between Power Law and Exponential: (618.1714405113767, 8.789545257449831e-23)\n"
     ]
    },
    {
     "name": "stderr",
     "output_type": "stream",
     "text": [
      "Values less than or equal to 0 in data. Throwing out 0 or negative values\n"
     ]
    },
    {
     "name": "stdout",
     "output_type": "stream",
     "text": [
      "Calculating best minimal value for power law fit\n",
      "xmin progress: 99%\n",
      "Platform: usenet\n",
      "Alpha: 4.099637022234884\n",
      "Sigma: 0.0920053133382796\n",
      "D: 0.015334687351538312\n",
      "Comparison between Power Law and Exponential: (99.0338314118738, 1.2524065794596844e-07)\n",
      "Calculating best minimal value for power law fit\n",
      "xmin progress: 99%\n",
      "Platform: voat\n",
      "Alpha: 6.1853910803927645\n",
      "Sigma: 0.30608395751402173\n",
      "D: 0.028074366708991882\n",
      "Comparison between Power Law and Exponential: (13.29339991551608, 0.20204328005220784)\n",
      "Calculating best minimal value for power law fit\n",
      "xmin progress: 99%\n",
      "Platform: facebook\n",
      "Alpha: 2.501686647475684\n",
      "Sigma: 0.06295397916299462\n",
      "D: 0.017124620461134832\n",
      "Comparison between Power Law and Exponential: (203.93306221783251, 3.418352652744081e-05)\n"
     ]
    }
   ],
   "source": [
    "import pandas as pd\n",
    "import powerlaw as pwl\n",
    "import matplotlib.pyplot as plt\n",
    "import os\n",
    "\n",
    "# Definizione delle piattaforme da analizzare\n",
    "platforms = ['gab', 'reddit', 'twitter', 'usenet', 'voat', 'facebook']\n",
    "\n",
    "# Funzione per caricare e analizzare i dati di ciascuna piattaforma\n",
    "def analyze_platform_data(platform, root, columns_to_read, standard_columns):\n",
    "    try:\n",
    "        # Carica i dati da un file Parquet\n",
    "        data = pd.read_parquet(root + 'DATA/' + platform + '/' + platform + '_raw_data.parquet', \n",
    "                                columns=columns_to_read[platform])\n",
    "        data.columns = standard_columns\n",
    "        data['timestamp'] = pd.to_datetime(data['timestamp'])\n",
    "\n",
    "        # Calcola il numero di utenti unici per post\n",
    "        unique_users_per_post = data.groupby('post_id')['user_id'].nunique().reset_index()\n",
    "        unique_users_per_post.columns = ['post_id', 'unique_users_count']\n",
    "\n",
    "        # Salva i risultati in un CSV\n",
    "        output_csv_path = os.path.join(root, 'PAPER', 'output', '1_section', f'1_users_in_thread_{platform}.csv')\n",
    "        unique_users_per_post.to_csv(output_csv_path, index=False)\n",
    "        \n",
    "        # Fit della distribuzione Power Law\n",
    "        fit_function = pwl.Fit(list(unique_users_per_post['unique_users_count']))\n",
    "        \n",
    "        # Stampa dei parametri della Power Law\n",
    "        print(f\"\\nPlatform: {platform}\")\n",
    "        print(f\"Alpha: {fit_function.power_law.alpha}\")\n",
    "        print(f\"Sigma: {fit_function.power_law.sigma}\")\n",
    "        print(f\"D: {fit_function.power_law.D}\")\n",
    "        \n",
    "        # Confronto tra la Power Law e una distribuzione esponenziale (opzionale)\n",
    "        comparison = fit_function.distribution_compare('power_law', 'exponential')\n",
    "        print(f\"Comparison between Power Law and Exponential: {comparison}\")\n",
    "        \n",
    "        # Plot dei dati e della Power Law adattata\n",
    "        plt.figure(figsize=(8, 6))\n",
    "        fit_function.plot_pdf(color='b', linestyle='-', label='Empirical Data')  # PDF empirico\n",
    "        fit_function.power_law.plot_pdf(color='r', linestyle='--', label='Fitted Power Law')  # Fit della Power Law\n",
    "        plt.title(f\"Power Law Fit for {platform}\")\n",
    "        plt.xlabel('Unique Users per Post')\n",
    "        plt.ylabel('Probability')\n",
    "        plt.legend()\n",
    "        plt.grid(True)\n",
    "\n",
    "        # Salva il grafico come PNG\n",
    "        plot_path = os.path.join(root, 'PAPER', 'output', 'plots', f'{platform}_power_law_fit.png')\n",
    "        plt.savefig(plot_path)\n",
    "        plt.close()\n",
    "        \n",
    "    except Exception as e:\n",
    "        print(f\"Error processing platform {platform}: {e}\")\n",
    "\n",
    "\n",
    "\n",
    "# Ciclo per analizzare ogni piattaforma\n",
    "for platform in platforms:\n",
    "    analyze_platform_data(platform, root, columns_to_read, standard_columns)\n"
   ]
  }
 ],
 "metadata": {
  "kernelspec": {
   "display_name": "Python 3",
   "language": "python",
   "name": "python3"
  },
  "language_info": {
   "codemirror_mode": {
    "name": "ipython",
    "version": 3
   },
   "file_extension": ".py",
   "mimetype": "text/x-python",
   "name": "python",
   "nbconvert_exporter": "python",
   "pygments_lexer": "ipython3",
   "version": "3.10.12"
  }
 },
 "nbformat": 4,
 "nbformat_minor": 2
}
