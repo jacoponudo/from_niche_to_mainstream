{
 "cells": [
  {
   "cell_type": "code",
   "execution_count": null,
   "metadata": {},
   "outputs": [],
   "source": [
    "# Import packages\n",
    "from tools.to_read import *\n",
    "from tools.to_plot import *\n",
    "from tools.to_do import *\n",
    "import pandas as pd\n",
    "import numpy as np\n",
    "import matplotlib.pyplot as plt\n",
    "from tqdm import tqdm\n",
    "import seaborn as sns\n",
    "from matplotlib.colors import LinearSegmentedColormap\n",
    "\n",
    "# Set up\n",
    "root='/home/jacoponudo/Documents/Size_effects/'\n"
   ]
  },
  {
   "cell_type": "markdown",
   "metadata": {},
   "source": [
    "# Power Law distribution"
   ]
  },
  {
   "cell_type": "markdown",
   "metadata": {},
   "source": [
    "#### Fitta le power law"
   ]
  },
  {
   "cell_type": "code",
   "execution_count": null,
   "metadata": {},
   "outputs": [
    {
     "name": "stdout",
     "output_type": "stream",
     "text": [
      "Calculating best minimal value for power law fit\n",
      "xmin progress: 99%\n",
      "Platform: gab\n",
      "Alpha: 3.5292471415993325\n",
      "Sigma: 0.03858411923607005\n",
      "D: 0.02201761290675619\n",
      "Comparison between Power Law and Exponential: (233.1645088637785, 5.17112302132254e-09)\n",
      "Calculating best minimal value for power law fit\n",
      "xmin progress: 99%\n",
      "Platform: reddit\n",
      "Alpha: 1.988425228237548\n",
      "Sigma: 0.006076205998567572\n",
      "D: 0.02561273260329\n",
      "Comparison between Power Law and Exponential: (9944.559997522074, 0.0)\n",
      "Calculating best minimal value for power law fit\n",
      "xmin progress: 99%\n",
      "Platform: twitter\n",
      "Alpha: 2.6312335950842725\n",
      "Sigma: 0.03133513078484209\n",
      "D: 0.023856980860095134\n",
      "Comparison between Power Law and Exponential: (618.1714405113767, 8.789545257449831e-23)\n"
     ]
    },
    {
     "name": "stderr",
     "output_type": "stream",
     "text": [
      "Values less than or equal to 0 in data. Throwing out 0 or negative values\n"
     ]
    },
    {
     "name": "stdout",
     "output_type": "stream",
     "text": [
      "Calculating best minimal value for power law fit\n",
      "xmin progress: 99%\n",
      "Platform: usenet\n",
      "Alpha: 4.099637022234884\n",
      "Sigma: 0.0920053133382796\n",
      "D: 0.015334687351538312\n",
      "Comparison between Power Law and Exponential: (99.0338314118738, 1.2524065794596844e-07)\n",
      "Calculating best minimal value for power law fit\n",
      "xmin progress: 99%\n",
      "Platform: voat\n",
      "Alpha: 6.1853910803927645\n",
      "Sigma: 0.30608395751402173\n",
      "D: 0.028074366708991882\n",
      "Comparison between Power Law and Exponential: (13.29339991551608, 0.20204328005220784)\n",
      "Calculating best minimal value for power law fit\n",
      "xmin progress: 99%\n",
      "Platform: facebook\n",
      "Alpha: 2.501686647475684\n",
      "Sigma: 0.06295397916299462\n",
      "D: 0.017124620461134832\n",
      "Comparison between Power Law and Exponential: (203.93306221783251, 3.418352652744081e-05)\n"
     ]
    }
   ],
   "source": [
    "import pandas as pd\n",
    "import powerlaw as pwl\n",
    "import matplotlib.pyplot as plt\n",
    "import os\n",
    "\n",
    "# Definizione delle piattaforme da analizzare\n",
    "platforms = ['gab', 'reddit', 'twitter', 'usenet', 'voat', 'facebook']\n",
    "\n",
    "# Funzione per caricare e analizzare i dati di ciascuna piattaforma\n",
    "def analyze_platform_data(platform, root, columns_to_read, standard_columns):\n",
    "    try:\n",
    "        # Carica i dati da un file Parquet\n",
    "        data = pd.read_parquet(root + 'DATA/' + platform + '/' + platform + '_raw_data.parquet', \n",
    "                                columns=columns_to_read[platform])\n",
    "        data.columns = standard_columns\n",
    "        data['timestamp'] = pd.to_datetime(data['timestamp'])\n",
    "\n",
    "        # Calcola il numero di utenti unici per post\n",
    "        unique_users_per_post = data.groupby('post_id')['user_id'].nunique().reset_index()\n",
    "        unique_users_per_post.columns = ['post_id', 'unique_users_count']\n",
    "\n",
    "        # Salva i risultati in un CSV\n",
    "        output_csv_path = os.path.join(root, 'PAPER', 'output', '1_section', f'1_users_in_thread_{platform}.csv')\n",
    "        unique_users_per_post.to_csv(output_csv_path, index=False)\n",
    "        \n",
    "        # Fit della distribuzione Power Law\n",
    "        fit_function = pwl.Fit(list(unique_users_per_post['unique_users_count']))\n",
    "        \n",
    "        # Stampa dei parametri della Power Law\n",
    "        print(f\"\\nPlatform: {platform}\")\n",
    "        print(f\"Alpha: {fit_function.power_law.alpha}\")\n",
    "        print(f\"Sigma: {fit_function.power_law.sigma}\")\n",
    "        print(f\"D: {fit_function.power_law.D}\")\n",
    "        \n",
    "        # Confronto tra la Power Law e una distribuzione esponenziale (opzionale)\n",
    "        comparison = fit_function.distribution_compare('power_law', 'exponential')\n",
    "        print(f\"Comparison between Power Law and Exponential: {comparison}\")\n",
    "        \n",
    "        # Plot dei dati e della Power Law adattata\n",
    "        plt.figure(figsize=(8, 6))\n",
    "        fit_function.plot_pdf(color='b', linestyle='-', label='Empirical Data')  # PDF empirico\n",
    "        fit_function.power_law.plot_pdf(color='r', linestyle='--', label='Fitted Power Law')  # Fit della Power Law\n",
    "        plt.title(f\"Power Law Fit for {platform}\")\n",
    "        plt.xlabel('Unique Users per Post')\n",
    "        plt.ylabel('Probability')\n",
    "        plt.legend()\n",
    "        plt.grid(True)\n",
    "\n",
    "        # Salva il grafico come PNG\n",
    "        plot_path = os.path.join(root, 'PAPER', 'output', 'plots', f'{platform}_power_law_fit.png')\n",
    "        plt.savefig(plot_path)\n",
    "        plt.close()\n",
    "        \n",
    "    except Exception as e:\n",
    "        print(f\"Error processing platform {platform}: {e}\")\n",
    "\n",
    "\n",
    "\n",
    "# Ciclo per analizzare ogni piattaforma\n",
    "for platform in platforms:\n",
    "    analyze_platform_data(platform, root, columns_to_read, standard_columns)\n"
   ]
  },
  {
   "cell_type": "markdown",
   "metadata": {},
   "source": [
    "## Lifetime collective"
   ]
  },
  {
   "cell_type": "code",
   "execution_count": 1,
   "metadata": {},
   "outputs": [
    {
     "name": "stderr",
     "output_type": "stream",
     "text": [
      "/home/jacoponudo/.local/lib/python3.10/site-packages/matplotlib/projections/__init__.py:63: UserWarning: Unable to import Axes3D. This may be due to multiple versions of Matplotlib being installed (e.g. as a system package and as a pip package). As a result, the 3D projection is not available.\n",
      "  warnings.warn(\"Unable to import Axes3D. This may be due to multiple versions of \"\n",
      "  0%|          | 0/6 [00:00<?, ?it/s]/tmp/ipykernel_382110/3779085521.py:29: FutureWarning: A value is trying to be set on a copy of a DataFrame or Series through chained assignment using an inplace method.\n",
      "The behavior will change in pandas 3.0. This inplace method will never work because the intermediate object on which we are setting values always behaves as a copy.\n",
      "\n",
      "For example, when doing 'df[col].method(value, inplace=True)', try using 'df.method({col: value}, inplace=True)' or df[col] = df[col].method(value) instead, to perform the operation inplace on the original object.\n",
      "\n",
      "\n",
      "  df['duration_percentile'].fillna(0, inplace=True)\n",
      "/tmp/ipykernel_382110/3779085521.py:33: FutureWarning: \n",
      "\n",
      "`shade` is now deprecated in favor of `fill`; setting `fill=True`.\n",
      "This will become an error in seaborn v0.14.0; please update your code.\n",
      "\n",
      "  sns.kdeplot(df['duration_percentile'], shade=True, bw_method=0.2)  # Adjusted bandwidth for smoothness\n"
     ]
    },
    {
     "data": {
      "image/png": "[encoded data removed]",
      "text/plain": [
       "<Figure size 800x600 with 1 Axes>"
      ]
     },
     "metadata": {},
     "output_type": "display_data"
    },
    {
     "name": "stderr",
     "output_type": "stream",
     "text": [
      "Calcolando durata 80° percentile per ogni post:   0%|          | 0/2646787 [00:05<?, ?it/s]\n",
      " 17%|█▋        | 1/6 [00:13<01:05, 13.07s/it]\n"
     ]
    },
    {
     "ename": "AttributeError",
     "evalue": "'float' object has no attribute 'total_seconds'",
     "output_type": "error",
     "traceback": [
      "\u001b[0;31m---------------------------------------------------------------------------\u001b[0m",
      "\u001b[0;31mAttributeError\u001b[0m                            Traceback (most recent call last)",
      "Cell \u001b[0;32mIn[1], line 21\u001b[0m\n\u001b[1;32m     19\u001b[0m output_path \u001b[38;5;241m=\u001b[39m root \u001b[38;5;241m+\u001b[39m \u001b[38;5;124m'\u001b[39m\u001b[38;5;124mPAPER/output/1_section/2_lifetime_thread_\u001b[39m\u001b[38;5;132;01m{}\u001b[39;00m\u001b[38;5;124m.csv\u001b[39m\u001b[38;5;124m'\u001b[39m\u001b[38;5;241m.\u001b[39mformat(platform)\n\u001b[1;32m     20\u001b[0m \u001b[38;5;28;01mif\u001b[39;00m \u001b[38;5;129;01mnot\u001b[39;00m os\u001b[38;5;241m.\u001b[39mpath\u001b[38;5;241m.\u001b[39mexists(output_path):\n\u001b[0;32m---> 21\u001b[0m     \u001b[43mcalculate_lifetime_percentile\u001b[49m\u001b[43m(\u001b[49m\u001b[43mdata\u001b[49m\u001b[43m,\u001b[49m\u001b[43m \u001b[49m\u001b[38;5;241;43m80\u001b[39;49m\u001b[43m,\u001b[49m\u001b[43m \u001b[49m\u001b[43moutput_path\u001b[49m\u001b[43m)\u001b[49m\n\u001b[1;32m     22\u001b[0m \u001b[38;5;66;03m# Plotting\u001b[39;00m\n\u001b[1;32m     23\u001b[0m df \u001b[38;5;241m=\u001b[39m pd\u001b[38;5;241m.\u001b[39mread_csv(output_path, dtype\u001b[38;5;241m=\u001b[39m{\u001b[38;5;124m'\u001b[39m\u001b[38;5;124mpost_id\u001b[39m\u001b[38;5;124m'\u001b[39m: \u001b[38;5;28mstr\u001b[39m})\n",
      "File \u001b[0;32m~/Documents/Size_effects/PAPER/tools/to_do.py:31\u001b[0m, in \u001b[0;36mcalculate_lifetime_percentile\u001b[0;34m(data, percentile, output_path)\u001b[0m\n\u001b[1;32m     28\u001b[0m \u001b[38;5;66;03m# Applicare la funzione per ogni 'post_id' con una barra di progresso\u001b[39;00m\n\u001b[1;32m     29\u001b[0m \u001b[38;5;28;01mfor\u001b[39;00m post_id, group \u001b[38;5;129;01min\u001b[39;00m tqdm(data\u001b[38;5;241m.\u001b[39mgroupby(\u001b[38;5;124m'\u001b[39m\u001b[38;5;124mpost_id\u001b[39m\u001b[38;5;124m'\u001b[39m), desc\u001b[38;5;241m=\u001b[39m\u001b[38;5;124mf\u001b[39m\u001b[38;5;124m\"\u001b[39m\u001b[38;5;124mCalcolando durata \u001b[39m\u001b[38;5;132;01m{\u001b[39;00mpercentile\u001b[38;5;132;01m}\u001b[39;00m\u001b[38;5;124m° percentile per ogni post\u001b[39m\u001b[38;5;124m\"\u001b[39m, total\u001b[38;5;241m=\u001b[39mdata[\u001b[38;5;124m'\u001b[39m\u001b[38;5;124mpost_id\u001b[39m\u001b[38;5;124m'\u001b[39m]\u001b[38;5;241m.\u001b[39mnunique()):\n\u001b[1;32m     30\u001b[0m     \u001b[38;5;66;03m# Calcoliamo la durata per il percentile\u001b[39;00m\n\u001b[0;32m---> 31\u001b[0m     duration \u001b[38;5;241m=\u001b[39m \u001b[43mcalculate_percentile_lifetime\u001b[49m\u001b[43m(\u001b[49m\u001b[43mgroup\u001b[49m\u001b[43m,\u001b[49m\u001b[43m \u001b[49m\u001b[43mpercentile\u001b[49m\u001b[43m)\u001b[49m\n\u001b[1;32m     32\u001b[0m     \u001b[38;5;66;03m# Calcoliamo il numero di utenti univoci per ogni post\u001b[39;00m\n\u001b[1;32m     33\u001b[0m     unique_user_count \u001b[38;5;241m=\u001b[39m group[\u001b[38;5;124m'\u001b[39m\u001b[38;5;124muser_id\u001b[39m\u001b[38;5;124m'\u001b[39m]\u001b[38;5;241m.\u001b[39mnunique()\n",
      "File \u001b[0;32m~/Documents/Size_effects/PAPER/tools/to_do.py:12\u001b[0m, in \u001b[0;36mcalculate_percentile_lifetime\u001b[0;34m(group, percentile)\u001b[0m\n\u001b[1;32m     10\u001b[0m filtered_group \u001b[38;5;241m=\u001b[39m group\u001b[38;5;241m.\u001b[39miloc[:cutoff_index]\n\u001b[1;32m     11\u001b[0m \u001b[38;5;66;03m# Calcoliamo la differenza di tempo tra il primo e l'ultimo commento\u001b[39;00m\n\u001b[0;32m---> 12\u001b[0m duration \u001b[38;5;241m=\u001b[39m \u001b[43m(\u001b[49m\u001b[43mfiltered_group\u001b[49m\u001b[43m[\u001b[49m\u001b[38;5;124;43m'\u001b[39;49m\u001b[38;5;124;43mtimestamp\u001b[39;49m\u001b[38;5;124;43m'\u001b[39;49m\u001b[43m]\u001b[49m\u001b[38;5;241;43m.\u001b[39;49m\u001b[43mmax\u001b[49m\u001b[43m(\u001b[49m\u001b[43m)\u001b[49m\u001b[43m \u001b[49m\u001b[38;5;241;43m-\u001b[39;49m\u001b[43m \u001b[49m\u001b[43mfiltered_group\u001b[49m\u001b[43m[\u001b[49m\u001b[38;5;124;43m'\u001b[39;49m\u001b[38;5;124;43mtimestamp\u001b[39;49m\u001b[38;5;124;43m'\u001b[39;49m\u001b[43m]\u001b[49m\u001b[38;5;241;43m.\u001b[39;49m\u001b[43mmin\u001b[49m\u001b[43m(\u001b[49m\u001b[43m)\u001b[49m\u001b[43m)\u001b[49m\u001b[38;5;241;43m.\u001b[39;49m\u001b[43mtotal_seconds\u001b[49m() \u001b[38;5;241m/\u001b[39m \u001b[38;5;241m3600\u001b[39m  \u001b[38;5;66;03m# Convertiamo in ore\u001b[39;00m\n\u001b[1;32m     13\u001b[0m \u001b[38;5;28;01mreturn\u001b[39;00m duration\n",
      "\u001b[0;31mAttributeError\u001b[0m: 'float' object has no attribute 'total_seconds'"
     ]
    }
   ],
   "source": [
    "platforms = ['reddit', 'usenet', 'voat','gab', 'facebook','twitter']\n",
    "\n",
    "from tools.to_read import *\n",
    "from tools.to_plot import *\n",
    "from tools.to_do import *\n",
    "import pandas as pd\n",
    "import numpy as np\n",
    "import matplotlib.pyplot as plt\n",
    "from tqdm import tqdm\n",
    "import seaborn as sns\n",
    "from matplotlib.colors import LinearSegmentedColormap\n",
    "import matplotlib.image as mpimg\n",
    "from tqdm import tqdm\n",
    "import os\n",
    "root = '/home/jacoponudo/Documents/Size_effects/' \n",
    "for platform in tqdm(platforms):\n",
    "    data = pd.read_parquet(root + 'DATA/' + platform + '/' + platform + '_raw_data.parquet', columns=columns_to_read[platform])\n",
    "    data.columns = standard_columns    \n",
    "    output_path = root + 'PAPER/output/1_section/2_lifetime_thread_{}.csv'.format(platform)\n",
    "    if not os.path.exists(output_path):\n",
    "        calculate_lifetime_percentile(data, 80, output_path)\n",
    "    # Plotting\n",
    "    df = pd.read_csv(output_path, dtype={'post_id': str})\n",
    "\n",
    "    # Convert the 'duration_percentile' column to numeric, coercing errors to NaN\n",
    "    df['duration_percentile'] = pd.to_numeric(df['duration_percentile'], errors='coerce')\n",
    "\n",
    "    # Replace NaN values with 0\n",
    "    df['duration_percentile'].fillna(0, inplace=True)\n",
    "\n",
    "    # Create a smooth density plot of the 'duration_percentile' column with adjusted bandwidth\n",
    "    plt.figure(figsize=(8, 6))\n",
    "    sns.kdeplot(df['duration_percentile'], shade=True, bw_method=0.2)  # Adjusted bandwidth for smoothness\n",
    "\n",
    "    # Set a proper xlim based on the data range\n",
    "    plt.xlim(df['duration_percentile'].min() - 1, df['duration_percentile'].quantile(0.9995) + 1)\n",
    "\n",
    "    plt.title(\"Smooth Density Plot of Duration Percentile\")\n",
    "    plt.xlabel(\"Duration Percentile\")\n",
    "    plt.ylabel(\"Density\")\n",
    "    plt.show()"
   ]
  },
  {
   "cell_type": "markdown",
   "metadata": {},
   "source": [
    "## Individual lifetime "
   ]
  },
  {
   "cell_type": "code",
   "execution_count": null,
   "metadata": {},
   "outputs": [],
   "source": []
  },
  {
   "cell_type": "markdown",
   "metadata": {},
   "source": [
    "## Numero Tokens"
   ]
  },
  {
   "cell_type": "code",
   "execution_count": null,
   "metadata": {},
   "outputs": [],
   "source": []
  }
 ],
 "metadata": {
  "kernelspec": {
   "display_name": "Python 3",
   "language": "python",
   "name": "python3"
  },
  "language_info": {
   "codemirror_mode": {
    "name": "ipython",
    "version": 3
   },
   "file_extension": ".py",
   "mimetype": "text/x-python",
   "name": "python",
   "nbconvert_exporter": "python",
   "pygments_lexer": "ipython3",
   "version": "3.10.12"
  }
 },
 "nbformat": 4,
 "nbformat_minor": 2
}
