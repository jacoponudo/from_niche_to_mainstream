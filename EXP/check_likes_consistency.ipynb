{
 "cells": [
  {
   "cell_type": "markdown",
   "metadata": {},
   "source": [
    "## Check like coverage\n",
    "Controllo che tutte le pagine abbiano i like e non solo le pagine piu grosse, in tal caso uso i commenti per fare i lcalcolo dell'outreach"
   ]
  },
  {
   "cell_type": "code",
   "execution_count": null,
   "metadata": {},
   "outputs": [],
   "source": [
    "import pandas as pd\n",
    "\n",
    "# Load posts data and calculate reported likes per page\n",
    "posts = pd.read_csv('/home/jacoponudo/Documents/Size_effects/DATA/sample_posts.csv', encoding='ISO-8859-1')\n",
    "likes_reported = posts.groupby('page_id')['likes_count'].sum().reset_index().rename(columns={'likes_count': 'likes_reported'})\n",
    "\n",
    "# Load likes data and count likes per page\n",
    "likes = pd.read_csv('/home/jacoponudo/Documents/Size_effects/DATA/sample_likes.csv', encoding='ISO-8859-1')\n",
    "likes = likes[['post_id']]\n",
    "posts = posts[['post_id', 'page_id']]\n",
    "\n",
    "# Merge likes with posts data to count likes per page\n",
    "merged_data = pd.merge(likes, posts, on='post_id', how='left')\n",
    "likes_counted = merged_data.groupby('page_id').size().reset_index(name='likes_counted')\n",
    "\n",
    "# Optional: Merge reported and counted likes into one DataFrame\n",
    "final_data = pd.merge(likes_reported, likes_counted, on='page_id', how='outer')\n",
    "\n",
    "import matplotlib.pyplot as plt\n",
    "\n",
    "# Replace NaN values with 0\n",
    "final_data.fillna(0, inplace=True)\n",
    "\n",
    "# Scatter plot\n",
    "plt.figure(figsize=(10, 6))\n",
    "plt.scatter( final_data['likes_reported']+1,final_data['likes_counted']+1, alpha=0.7)\n",
    "plt.title('Like Reported vs. Like Counted')\n",
    "plt.xlabel('Likes Reported')\n",
    "plt.ylabel('Likes Counted')\n",
    "plt.xscale('log')\n",
    "plt.yscale('log')\n",
    "\n",
    "\n",
    "plt.show()\n"
   ]
  }
 ],
 "metadata": {
  "language_info": {
   "name": "python"
  }
 },
 "nbformat": 4,
 "nbformat_minor": 2
}
