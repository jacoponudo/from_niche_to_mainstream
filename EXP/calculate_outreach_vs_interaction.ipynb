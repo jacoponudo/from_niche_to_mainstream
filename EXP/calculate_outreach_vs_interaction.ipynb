{
 "cells": [
  {
   "cell_type": "markdown",
   "metadata": {},
   "source": [
    "## Outreach for each post"
   ]
  },
  {
   "cell_type": "markdown",
   "metadata": {},
   "source": [
    "I successivi blocchi di codice consentono di fare un confronto tra la len dell'interazione e la size dell'outreach di una pagina misurata come Lurkers in quel momento."
   ]
  },
  {
   "cell_type": "code",
   "execution_count": null,
   "metadata": {},
   "outputs": [
    {
     "name": "stderr",
     "output_type": "stream",
     "text": [
      "/home/jacoponudo/.local/lib/python3.10/site-packages/matplotlib/projections/__init__.py:63: UserWarning: Unable to import Axes3D. This may be due to multiple versions of Matplotlib being installed (e.g. as a system package and as a pip package). As a result, the 3D projection is not available.\n",
      "  warnings.warn(\"Unable to import Axes3D. This may be due to multiple versions of \"\n"
     ]
    }
   ],
   "source": [
    "import pandas as pd\n",
    "import os\n",
    "from tqdm import tqdm\n",
    "import numpy as np\n",
    "import matplotlib.pyplot as plt"
   ]
  },
  {
   "cell_type": "code",
   "execution_count": null,
   "metadata": {},
   "outputs": [
    {
     "data": {
      "text/plain": [
       "np.float64(0.6627619477450383)"
      ]
     },
     "metadata": {},
     "output_type": "display_data"
    }
   ],
   "source": [
    "posts = pd.read_csv('/home/jacoponudo/Documents/Size_effects/DATA/sample_posts.csv',usecols=['created_time', 'page_id', 'post_id'],encoding='ISO-8859-1')\n",
    "likes = pd.read_csv('/home/jacoponudo/Documents/Size_effects/DATA/sample_likes.csv', usecols=['from_id', 'post_id'], encoding='ISO-8859-1')\n",
    "np.mean(posts['post_id'].isin(likes['post_id'])) # Solo del 66% dei post abbiamo i like, poichè questi sono stati ignorati per le pagine troppo grandi. Vedi EXP/check_likes_consistency.ipynb"
   ]
  },
  {
   "cell_type": "markdown",
   "metadata": {},
   "source": [
    "Estraiamo per ciascuna pagine la serie storica dei Lurkers, ovvero il numero di utenti univoci che ha lasciato like a un qualsiasi post della pagina."
   ]
  },
  {
   "cell_type": "code",
   "execution_count": null,
   "metadata": {},
   "outputs": [
    {
     "name": "stderr",
     "output_type": "stream",
     "text": [
      "100%|██████████| 117/117 [08:48<00:00,  4.51s/it]"
     ]
    },
    {
     "name": "stdout",
     "output_type": "stream",
     "text": [
      "File salvato in: /home/jacoponudo/Documents/Size_effects/DATA//sample_outreachs.csv\n"
     ]
    },
    {
     "name": "stderr",
     "output_type": "stream",
     "text": [
      "\n"
     ]
    }
   ],
   "source": [
    "folder_path = '/home/jacoponudo/Documents/Size_effects/DATA/'\n",
    "dataframes = []\n",
    "\n",
    "# Itera su ogni ID di pagina unico\n",
    "for page_id in tqdm(posts['page_id'].unique()):\n",
    "    page_posts = posts[posts['page_id'] == page_id]\n",
    "    page_likes = likes[likes['post_id'].isin(page_posts['post_id'].unique())]\n",
    "\n",
    "    # Unisci i dati dei post con i dati dei like\n",
    "    complete_page_likes = pd.merge(page_posts, page_likes, on='post_id', how='right')\n",
    "    complete_page_likes['created_time'] = pd.to_datetime(complete_page_likes['created_time'])\n",
    "    complete_page_likes.set_index('created_time', inplace=True)\n",
    "\n",
    "    # Calcola il numero di utenti unici settimanali\n",
    "    weekly_unique_users = complete_page_likes['from_id'].resample('W').nunique()\n",
    "    monthly_moving_avg = weekly_unique_users.rolling(window=8).mean()\n",
    "    \n",
    "    # Crea il DataFrame per la media mobile mensile\n",
    "    monthly_avg_df = pd.DataFrame({\n",
    "        'Date': monthly_moving_avg.index,\n",
    "        'Monthly Moving Average': monthly_moving_avg.values\n",
    "    }).dropna() \n",
    "    \n",
    "    # Aggiungi l'ID della pagina\n",
    "    monthly_avg_df.insert(2, 'page_id', page_id)\n",
    "    dataframes.append(monthly_avg_df)\n",
    "\n",
    "# Concatenazione di tutti i DataFrame in un unico DataFrame outreach\n",
    "outreachs = pd.concat(dataframes, ignore_index=True)\n",
    "\n",
    "# Salva il file completo di outreach\n",
    "output_file = f'{folder_path}/sample_outreachs.csv'\n",
    "outreachs.to_csv(output_file, index=False)\n",
    "\n",
    "print(f\"File salvato in: {output_file}\")"
   ]
  },
  {
   "cell_type": "markdown",
   "metadata": {},
   "source": [
    "Puliamo la ram da tutti i file in memoria."
   ]
  },
  {
   "cell_type": "code",
   "execution_count": null,
   "metadata": {},
   "outputs": [],
   "source": [
    "import gc\n",
    "def clear_all():\n",
    "    for name in dir():\n",
    "        if not name.startswith('_'):\n",
    "            del globals()[name]\n",
    "    gc.collect()\n",
    "\n",
    "# Pulisci la RAM da tutte le variabili\n",
    "clear_all()"
   ]
  },
  {
   "cell_type": "markdown",
   "metadata": {},
   "source": [
    "Per ogni interazione, calcolo quanto dura (interaction len) e dove avviene (page_id), e qual'era il valore di Luckers sulla pagina su cui avviene in quel momento."
   ]
  },
  {
   "cell_type": "code",
   "execution_count": null,
   "metadata": {},
   "outputs": [
    {
     "data": {
      "text/plain": [
       "0"
      ]
     },
     "metadata": {},
     "output_type": "display_data"
    }
   ],
   "source": [
    "comments = pd.read_csv('/home/jacoponudo/Documents/Size_effects/DATA/sample_comments.csv',encoding='ISO-8859-1',usecols=['from_id', 'post_id'])\n",
    "interactions = comments.groupby(['from_id', 'post_id']).size().reset_index(name='interaction_len')\n",
    "del comments\n",
    "gc.collect()"
   ]
  },
  {
   "cell_type": "markdown",
   "metadata": {},
   "source": [
    "Interpolazione dell'outreach di ogni post."
   ]
  },
  {
   "cell_type": "code",
   "execution_count": null,
   "metadata": {},
   "outputs": [
    {
     "name": "stderr",
     "output_type": "stream",
     "text": [
      "100%|██████████| 1482309/1482309 [24:08<00:00, 1023.59it/s]\n"
     ]
    }
   ],
   "source": [
    "posts = pd.read_csv('/home/jacoponudo/Documents/Size_effects/DATA/sample_posts.csv',usecols=['created_time', 'page_id', 'post_id'],encoding='ISO-8859-1')\n",
    "outreach_values = []\n",
    "\n",
    "for idx, post in tqdm(posts.iterrows(), total=posts.shape[0]):\n",
    "    page_id = post['page_id']\n",
    "    outreach = outreachs[outreachs['page_id'] == int(page_id)].copy()\n",
    "    target_date = pd.to_datetime(post['created_time'])\n",
    "    previous_date_row = outreach[outreach['Date'] < target_date]\n",
    "    if not previous_date_row.empty:\n",
    "        monthly_moving_avg = previous_date_row.loc[previous_date_row['Date'].idxmax()]['Monthly Moving Average']\n",
    "    else:\n",
    "        monthly_moving_avg = None\n",
    "    outreach_values.append(monthly_moving_avg)\n",
    "posts['outreach'] = outreach_values\n",
    "\n",
    "interactions_selected = interactions[['interaction_len', 'post_id']]\n",
    "interactions_selected['alpha'] = (interactions['interaction_len'] < 2)\n",
    "posts_selected = posts[['post_id', 'outreach']]\n",
    "merged_df = pd.merge(interactions_selected, posts_selected, on='post_id', how='inner')\n",
    "merged_df.to_csv('/home/jacoponudo/Documents/Size_effects/DATA/facebook_outreach_vs_interaction.csv')"
   ]
  }
 ],
 "metadata": {
  "language_info": {
   "name": "python"
  }
 },
 "nbformat": 4,
 "nbformat_minor": 2
}
