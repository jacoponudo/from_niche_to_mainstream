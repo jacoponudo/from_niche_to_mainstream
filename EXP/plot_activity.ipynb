{
 "cells": [
  {
   "cell_type": "code",
   "execution_count": 1,
   "metadata": {},
   "outputs": [
    {
     "name": "stderr",
     "output_type": "stream",
     "text": [
      "/home/jacoponudo/.local/lib/python3.10/site-packages/matplotlib/projections/__init__.py:63: UserWarning: Unable to import Axes3D. This may be due to multiple versions of Matplotlib being installed (e.g. as a system package and as a pip package). As a result, the 3D projection is not available.\n",
      "  warnings.warn(\"Unable to import Axes3D. This may be due to multiple versions of \"\n",
      " 17%|█▋        | 1/6 [00:58<04:54, 58.94s/it]/home/jacoponudo/Documents/Size_effects/EXP/EXP_package/read_data.py:33: UserWarning: DataFrame columns are not unique, some columns will be omitted.\n",
      "  posts_dict = posts.set_index('post_id').T.to_dict()\n",
      " 67%|██████▋   | 4/6 [04:07<01:45, 52.52s/it]"
     ]
    },
    {
     "name": "stdout",
     "output_type": "stream",
     "text": [
      "c\n"
     ]
    },
    {
     "name": "stderr",
     "output_type": "stream",
     "text": [
      "100%|██████████| 6/6 [04:29<00:00, 44.90s/it]\n"
     ]
    }
   ],
   "source": [
    "from EXP_package.read_dataset import *\n",
    "from EXP_package.read_data import *\n",
    "from tqdm import tqdm\n",
    "\n",
    "for platform in tqdm(['usenet','facebook','twitter', 'reddit' ,'gab' ,'voat']):\n",
    "    data = read_data(platform)\n",
    "    plot_comment_distribution(data, platform)\n"
   ]
  }
 ],
 "metadata": {
  "kernelspec": {
   "display_name": "Python 3",
   "language": "python",
   "name": "python3"
  },
  "language_info": {
   "codemirror_mode": {
    "name": "ipython",
    "version": 3
   },
   "file_extension": ".py",
   "mimetype": "text/x-python",
   "name": "python",
   "nbconvert_exporter": "python",
   "pygments_lexer": "ipython3",
   "version": "3.10.12"
  }
 },
 "nbformat": 4,
 "nbformat_minor": 2
}
