{
 "cells": [
  {
   "cell_type": "markdown",
   "metadata": {},
   "source": [
    "## Maps of pages\n",
    "Mappiamo le pagine a disposizione e le loro caratteristiche. Ogni blocco di codice prova a rispondere a una domanda."
   ]
  },
  {
   "cell_type": "code",
   "execution_count": 1,
   "metadata": {},
   "outputs": [
    {
     "name": "stderr",
     "output_type": "stream",
     "text": [
      "/home/jacoponudo/.local/lib/python3.10/site-packages/matplotlib/projections/__init__.py:63: UserWarning: Unable to import Axes3D. This may be due to multiple versions of Matplotlib being installed (e.g. as a system package and as a pip package). As a result, the 3D projection is not available.\n",
      "  warnings.warn(\"Unable to import Axes3D. This may be due to multiple versions of \"\n",
      "/tmp/ipykernel_20381/577968565.py:11: UserWarning: DataFrame columns are not unique, some columns will be omitted.\n",
      "  posts_dict = posts.set_index('post_id').T.to_dict()\n"
     ]
    },
    {
     "name": "stdout",
     "output_type": "stream",
     "text": [
      "                            post_id  alpha   outreach  \\\n",
      "1     35281584398_10151655784439399   True   1350.125   \n",
      "3   113349742029506_644708212226987   True      6.500   \n",
      "4      7155422274_10153792989482275   True  44599.625   \n",
      "8       67175109350_205981829418171   True     43.125   \n",
      "11     7155422274_10151218230287275   True  15919.625   \n",
      "\n",
      "                created_time          page_id  \n",
      "1   2013-06-10T16:04:00+0000      35281584398  \n",
      "3   2013-09-30T06:45:27+0000  113349742029506  \n",
      "4   2015-10-07T19:44:42+0000       7155422274  \n",
      "8   2011-03-01T17:33:52+0000      67175109350  \n",
      "11  2012-08-24T08:15:30+0000       7155422274  \n"
     ]
    }
   ],
   "source": [
    "import matplotlib.pyplot as plt\n",
    "import seaborn as sns\n",
    "import pandas as pd   \n",
    "from scipy import stats\n",
    "import pandas as pd\n",
    "import matplotlib.pyplot as plt\n",
    "\n",
    "interactions = pd.read_csv('/home/jacoponudo/Documents/Size_effects/DATA/interacions/facebook_outreach_vs_interaction.csv', usecols=['post_id', 'alpha', 'outreach'])\n",
    "posts = pd.read_csv('/home/jacoponudo/Documents/Size_effects/DATA/sample_posts.csv', usecols=['created_time', 'page_id', 'post_id'], encoding='ISO-8859-1')\n",
    "\n",
    "posts_dict = posts.set_index('post_id').T.to_dict()\n",
    "\n",
    "interactions['created_time'] = interactions['post_id'].map(lambda x: posts_dict.get(x, {}).get('created_time', None))\n",
    "interactions['page_id'] = interactions['post_id'].map(lambda x: posts_dict.get(x, {}).get('page_id', None))\n",
    "\n",
    "interactions=interactions.dropna()\n",
    "print(interactions.head())"
   ]
  },
  {
   "cell_type": "markdown",
   "metadata": {},
   "source": [
    "Quante pagine ci sono? "
   ]
  },
  {
   "cell_type": "code",
   "execution_count": 2,
   "metadata": {},
   "outputs": [
    {
     "data": {
      "text/plain": [
       "92"
      ]
     },
     "execution_count": 2,
     "metadata": {},
     "output_type": "execute_result"
    }
   ],
   "source": [
    "len(interactions['page_id'].unique())"
   ]
  },
  {
   "cell_type": "markdown",
   "metadata": {},
   "source": [
    "Di quante abbiamo la serie storica dei dati di attività dal 2010 al 2015?"
   ]
  },
  {
   "cell_type": "code",
   "execution_count": 3,
   "metadata": {},
   "outputs": [
    {
     "name": "stdout",
     "output_type": "stream",
     "text": [
      "Pagine con più di 200 righe: 88\n"
     ]
    }
   ],
   "source": [
    "outreach = pd.read_csv('/home/jacoponudo/Documents/Size_effects/DATA/sample_outreachs.csv')\n",
    "pages = outreach.groupby('page_id').size().reset_index(name='TS_coverage(W)')\n",
    "\n",
    "pagine_con_oltre_200_righe = (pages['TS_coverage(W)'] > 48).sum()\n",
    "print(f\"Pagine con più di 200 righe: {pagine_con_oltre_200_righe}\")"
   ]
  },
  {
   "cell_type": "markdown",
   "metadata": {},
   "source": [
    "Dividiamo l'outreach iniziale in 3 classi bilanciate."
   ]
  },
  {
   "cell_type": "code",
   "execution_count": 13,
   "metadata": {},
   "outputs": [
    {
     "ename": "AttributeError",
     "evalue": "'numpy.float64' object has no attribute 'reset_index'",
     "output_type": "error",
     "traceback": [
      "\u001b[0;31m---------------------------------------------------------------------------\u001b[0m",
      "\u001b[0;31mAttributeError\u001b[0m                            Traceback (most recent call last)",
      "Cell \u001b[0;32mIn[13], line 9\u001b[0m\n\u001b[1;32m      6\u001b[0m focus \u001b[38;5;241m=\u001b[39m pages[pages[\u001b[38;5;124m'\u001b[39m\u001b[38;5;124mTS_coverage(W)\u001b[39m\u001b[38;5;124m'\u001b[39m] \u001b[38;5;241m>\u001b[39m \u001b[38;5;241m48\u001b[39m][\u001b[38;5;124m'\u001b[39m\u001b[38;5;124mpage_id\u001b[39m\u001b[38;5;124m'\u001b[39m]\n\u001b[1;32m      8\u001b[0m \u001b[38;5;66;03m# Filtra le interazioni basandosi sui page_id di focus\u001b[39;00m\n\u001b[0;32m----> 9\u001b[0m first_outreachs \u001b[38;5;241m=\u001b[39m \u001b[43moutreach\u001b[49m\u001b[43m[\u001b[49m\u001b[43moutreach\u001b[49m\u001b[43m[\u001b[49m\u001b[38;5;124;43m'\u001b[39;49m\u001b[38;5;124;43mpage_id\u001b[39;49m\u001b[38;5;124;43m'\u001b[39;49m\u001b[43m]\u001b[49m\u001b[38;5;241;43m.\u001b[39;49m\u001b[43misin\u001b[49m\u001b[43m(\u001b[49m\u001b[43mfocus\u001b[49m\u001b[43m)\u001b[49m\u001b[43m]\u001b[49m\u001b[38;5;241;43m.\u001b[39;49m\u001b[43msort_values\u001b[49m\u001b[43m(\u001b[49m\u001b[43mby\u001b[49m\u001b[38;5;241;43m=\u001b[39;49m\u001b[38;5;124;43m'\u001b[39;49m\u001b[38;5;124;43mDate\u001b[39;49m\u001b[38;5;124;43m'\u001b[39;49m\u001b[43m)\u001b[49m\u001b[38;5;241;43m.\u001b[39;49m\u001b[43mgroupby\u001b[49m\u001b[43m(\u001b[49m\u001b[38;5;124;43m'\u001b[39;49m\u001b[38;5;124;43mpage_id\u001b[39;49m\u001b[38;5;124;43m'\u001b[39;49m\u001b[43m)\u001b[49m\u001b[38;5;241;43m.\u001b[39;49m\u001b[43mhead\u001b[49m\u001b[43m(\u001b[49m\u001b[38;5;241;43m4\u001b[39;49m\u001b[43m)\u001b[49m\u001b[43m[\u001b[49m\u001b[38;5;124;43m'\u001b[39;49m\u001b[38;5;124;43moutreach\u001b[39;49m\u001b[38;5;124;43m'\u001b[39;49m\u001b[43m]\u001b[49m\u001b[38;5;241;43m.\u001b[39;49m\u001b[43mmean\u001b[49m\u001b[43m(\u001b[49m\u001b[43m)\u001b[49m\u001b[38;5;241;43m.\u001b[39;49m\u001b[43mreset_index\u001b[49m()\n",
      "\u001b[0;31mAttributeError\u001b[0m: 'numpy.float64' object has no attribute 'reset_index'"
     ]
    }
   ],
   "source": [
    "outreach = pd.read_csv('/home/jacoponudo/Documents/Size_effects/DATA/sample_outreach.csv')\n",
    "outreach.columns=['Date','outreach','page_id']\n",
    "import pandas as pd\n",
    "\n",
    "# Filtra le pagine con TS_coverage(W) > 48 e ottieni i page_id\n",
    "focus = pages[pages['TS_coverage(W)'] > 48]['page_id']\n",
    "\n",
    "# Filtra le interazioni basandosi sui page_id di focus\n",
    "first_outreachs = outreach[outreach['page_id'].isin(focus)].sort_values(by='Date').groupby('page_id').head(4)['outreach'].mean().reset_index()\n"
   ]
  },
  {
   "cell_type": "code",
   "execution_count": 8,
   "metadata": {},
   "outputs": [
    {
     "name": "stdout",
     "output_type": "stream",
     "text": [
      "Classe: Molto Basso, Estremo inferiore: 0.00, Estremo superiore: 4.60\n",
      "Classe: Basso, Estremo inferiore: 4.60, Estremo superiore: 9.18\n",
      "Classe: Medio, Estremo inferiore: 9.18, Estremo superiore: 19.84\n",
      "Classe: Alto, Estremo inferiore: 19.84, Estremo superiore: 12147.38\n"
     ]
    }
   ],
   "source": [
    "import pandas as pd\n",
    "\n",
    "# Filtra le pagine con TS_coverage(W) > 48 e ottieni i page_id\n",
    "focus = pages[pages['TS_coverage(W)'] > 48]['page_id']\n",
    "\n",
    "# Filtra le interazioni basandosi sui page_id di focus\n",
    "outreach = outreach[outreach['page_id'].isin(focus)]\n",
    "\n",
    "# Ordina le interazioni in base a created_time\n",
    "outreach = outreach.sort_values(by='created_time')\n",
    "\n",
    "# Seleziona solo le prime 100 righe in ordine cronologico per ogni page_id\n",
    "forth_outreachs= outreach.sort_values('created_time').groupby('page_id').head(4)\n",
    "\n",
    "# Calcola la media di outreach per ogni page_id\n",
    "first_outreach = forth_outreachs.groupby('page_id')['outreach'].mean().reset_index()\n",
    "\n",
    "# Crea le classi omogenee per l'outreach usando i quantili\n",
    "quantiles = first_outreach['outreach'].quantile([0, 0.25, 0.5, 0.75, 1]).values\n",
    "labels = ['Molto Basso', 'Basso', 'Medio', 'Alto']\n",
    "first_outreach['outreach_binned'] = pd.cut(first_outreach['outreach'], bins=quantiles, labels=labels, include_lowest=True)\n",
    "\n",
    "# Mantieni solo le righe uniche nel DataFrame 'first_outreach' per il merge\n",
    "first_outreach_unique = first_outreach[['page_id', 'outreach_binned','outreach']].drop_duplicates('page_id')\n",
    "\n",
    "# Aggiungi la categoria al DataFrame 'pages' usando un merge\n",
    "pages = pages.merge(first_outreach_unique, on='page_id', how='left')\n",
    "\n",
    "# Stampa i limiti delle classi\n",
    "for label, lower, upper in zip(labels, quantiles[:-1], quantiles[1:]):\n",
    "    print(f\"Classe: {label}, Estremo inferiore: {lower:.2f}, Estremo superiore: {upper:.2f}\")\n",
    "\n",
    "# Rinomina le colonne di 'pages' se necessario\n",
    "pages.columns = ['page_id', 'TS_coverage(W)', 'initial_class_size', 'initial_size']\n"
   ]
  },
  {
   "cell_type": "markdown",
   "metadata": {},
   "source": [
    "Dividiamo l'outreach finale in 3 classi bilanciate."
   ]
  },
  {
   "cell_type": "code",
   "execution_count": 10,
   "metadata": {},
   "outputs": [
    {
     "name": "stdout",
     "output_type": "stream",
     "text": [
      "Classe: Molto Basso, Estremo inferiore: 0.00, Estremo superiore: 12.94\n",
      "Classe: Basso, Estremo inferiore: 12.94, Estremo superiore: 159.29\n",
      "Classe: Medio, Estremo inferiore: 159.29, Estremo superiore: 3163.12\n",
      "Classe: Alto, Estremo inferiore: 3163.12, Estremo superiore: 428301.75\n"
     ]
    }
   ],
   "source": [
    "# Seleziona solo le prime 100 righe in ordine cronologico per ogni page_id\n",
    "top_interactions = interactions.sort_values('created_time').groupby('page_id').tail(100)\n",
    "\n",
    "# Calcola la media di outreach per ogni page_id\n",
    "last_outreach = top_interactions.groupby('page_id')['outreach'].mean().reset_index()\n",
    "\n",
    "# Crea le classi omogenee per l'outreach usando i quantili\n",
    "quantiles = last_outreach['outreach'].quantile([0, 1/4, 1/2, 3/4, 1]).values\n",
    "labels = ['Molto Basso', 'Basso', 'Medio', 'Alto']\n",
    "last_outreach['outreach_binned'] = pd.cut(last_outreach['outreach'], bins=quantiles, labels=labels, include_lowest=True)\n",
    "\n",
    "# Mantieni solo le righe uniche nel DataFrame 'last_outreach' per il merge\n",
    "last_outreach_unique = last_outreach[['page_id', 'outreach_binned', 'outreach']].drop_duplicates('page_id')\n",
    "\n",
    "# Aggiungi la categoria al DataFrame 'pages' usando un merge\n",
    "pages = pages.merge(last_outreach_unique, on='page_id', how='left')\n",
    "\n",
    "# Stampa i limiti delle classi\n",
    "for label, lower, upper in zip(labels, quantiles[:-1], quantiles[1:]):\n",
    "    print(f\"Classe: {label}, Estremo inferiore: {lower:.2f}, Estremo superiore: {upper:.2f}\")\n",
    "\n",
    "# Aggiorna i nomi delle colonne nel DataFrame 'pages'\n",
    "pages.columns = ['page_id', 'TS_coverage(W)', 'initial_class_size', 'initial_size', 'last_class_size', 'last_size']\n"
   ]
  },
  {
   "cell_type": "markdown",
   "metadata": {},
   "source": [
    "Qual'è il delta della crescita tra prima e dopo."
   ]
  },
  {
   "cell_type": "code",
   "execution_count": 11,
   "metadata": {},
   "outputs": [],
   "source": [
    "pages['delta_growth']=pages['last_size']-pages['initial_size']"
   ]
  },
  {
   "cell_type": "markdown",
   "metadata": {},
   "source": [
    "In quale arco temporale lavorano."
   ]
  },
  {
   "cell_type": "code",
   "execution_count": 12,
   "metadata": {},
   "outputs": [],
   "source": [
    "interactions['created_time'] = pd.to_datetime(interactions['created_time'])\n",
    "diff_days = interactions.groupby('page_id')['created_time'].agg(max_date='max', min_date='min')\n",
    "diff_days['diff_days'] = (diff_days['max_date'] - diff_days['min_date']).dt.days\n",
    "pages = pages.merge(diff_days[['diff_days']], on='page_id', how='left')\n",
    "pages['growth_rate']=pages['delta_growth']/pages['diff_days']"
   ]
  },
  {
   "cell_type": "markdown",
   "metadata": {},
   "source": [
    "Esporta le pagine con le loro caratteristiche."
   ]
  },
  {
   "cell_type": "code",
   "execution_count": 18,
   "metadata": {},
   "outputs": [],
   "source": [
    "pages.to_csv('/home/jacoponudo/Documents/Size_effects/DATA/sample_pages.csv')"
   ]
  }
 ],
 "metadata": {
  "kernelspec": {
   "display_name": "Python 3",
   "language": "python",
   "name": "python3"
  },
  "language_info": {
   "codemirror_mode": {
    "name": "ipython",
    "version": 3
   },
   "file_extension": ".py",
   "mimetype": "text/x-python",
   "name": "python",
   "nbconvert_exporter": "python",
   "pygments_lexer": "ipython3",
   "version": "3.10.12"
  }
 },
 "nbformat": 4,
 "nbformat_minor": 2
}
