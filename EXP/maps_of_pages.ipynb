{
 "cells": [
  {
   "cell_type": "markdown",
   "metadata": {},
   "source": [
    "## Maps of pages\n",
    "Mappiamo le pagine a disposizione e le loro caratteristiche. Ogni blocco di codice prova a rispondere a una domanda."
   ]
  },
  {
   "cell_type": "code",
   "execution_count": 97,
   "metadata": {},
   "outputs": [
    {
     "name": "stderr",
     "output_type": "stream",
     "text": [
      "/tmp/ipykernel_8169/577968565.py:11: UserWarning: DataFrame columns are not unique, some columns will be omitted.\n",
      "  posts_dict = posts.set_index('post_id').T.to_dict()\n"
     ]
    },
    {
     "name": "stdout",
     "output_type": "stream",
     "text": [
      "                            post_id  alpha   outreach  \\\n",
      "1     35281584398_10151655784439399   True   1350.125   \n",
      "3   113349742029506_644708212226987   True      6.500   \n",
      "4      7155422274_10153792989482275   True  44599.625   \n",
      "8       67175109350_205981829418171   True     43.125   \n",
      "11     7155422274_10151218230287275   True  15919.625   \n",
      "\n",
      "                created_time          page_id  \n",
      "1   2013-06-10T16:04:00+0000      35281584398  \n",
      "3   2013-09-30T06:45:27+0000  113349742029506  \n",
      "4   2015-10-07T19:44:42+0000       7155422274  \n",
      "8   2011-03-01T17:33:52+0000      67175109350  \n",
      "11  2012-08-24T08:15:30+0000       7155422274  \n"
     ]
    }
   ],
   "source": [
    "import matplotlib.pyplot as plt\n",
    "import seaborn as sns\n",
    "import pandas as pd   \n",
    "from scipy import stats\n",
    "import pandas as pd\n",
    "import matplotlib.pyplot as plt\n",
    "\n",
    "interactions = pd.read_csv('/home/jacoponudo/Documents/Size_effects/DATA/interacions/facebook_outreach_vs_interaction.csv', usecols=['post_id', 'alpha', 'outreach'])\n",
    "posts = pd.read_csv('/home/jacoponudo/Documents/Size_effects/DATA/sample_posts.csv', usecols=['created_time', 'page_id', 'post_id'], encoding='ISO-8859-1')\n",
    "\n",
    "posts_dict = posts.set_index('post_id').T.to_dict()\n",
    "\n",
    "interactions['created_time'] = interactions['post_id'].map(lambda x: posts_dict.get(x, {}).get('created_time', None))\n",
    "interactions['page_id'] = interactions['post_id'].map(lambda x: posts_dict.get(x, {}).get('page_id', None))\n",
    "\n",
    "interactions=interactions.dropna()\n",
    "print(interactions.head())"
   ]
  },
  {
   "cell_type": "markdown",
   "metadata": {},
   "source": [
    "Quante pagine ci sono? "
   ]
  },
  {
   "cell_type": "code",
   "execution_count": 3,
   "metadata": {},
   "outputs": [
    {
     "data": {
      "text/plain": [
       "92"
      ]
     },
     "execution_count": 3,
     "metadata": {},
     "output_type": "execute_result"
    }
   ],
   "source": [
    "len(interactions['page_id'].unique())"
   ]
  },
  {
   "cell_type": "markdown",
   "metadata": {},
   "source": [
    "Di quante abbiamo la serie storica dei dati di attività dal 2010 al 2015?"
   ]
  },
  {
   "cell_type": "code",
   "execution_count": 150,
   "metadata": {},
   "outputs": [
    {
     "name": "stdout",
     "output_type": "stream",
     "text": [
      "Pagine con più di 200 righe: 88\n"
     ]
    }
   ],
   "source": [
    "outreach = pd.read_csv('/home/jacoponudo/Documents/Size_effects/DATA/sample_outreachs.csv')\n",
    "pages = outreach.groupby('page_id').size().reset_index(name='TS_coverage(W)')\n",
    "\n",
    "pagine_con_oltre_200_righe = (pages['TS_coverage(W)'] > 48).sum()\n",
    "print(f\"Pagine con più di 200 righe: {pagine_con_oltre_200_righe}\")"
   ]
  },
  {
   "cell_type": "markdown",
   "metadata": {},
   "source": [
    "Dividiamo l'outreach iniziale in 3 classi bilanciate."
   ]
  },
  {
   "cell_type": "code",
   "execution_count": 151,
   "metadata": {},
   "outputs": [
    {
     "name": "stdout",
     "output_type": "stream",
     "text": [
      "Classe: Molto Basso, Estremo inferiore: 0.00, Estremo superiore: 0.69\n",
      "Classe: Basso, Estremo inferiore: 0.69, Estremo superiore: 3.25\n",
      "Classe: Medio, Estremo inferiore: 3.25, Estremo superiore: 12.38\n",
      "Classe: Alto, Estremo inferiore: 12.38, Estremo superiore: 12147.38\n"
     ]
    }
   ],
   "source": [
    "import pandas as pd\n",
    "\n",
    "# Filtra le pagine con TS_coverage(W) > 48 e ottieni i page_id\n",
    "focus = pages[pages['TS_coverage(W)'] > 48]['page_id']\n",
    "\n",
    "# Filtra le interazioni basandosi sui page_id di focus\n",
    "interactions = interactions[interactions['page_id'].isin(focus)]\n",
    "\n",
    "# Ordina le interazioni in base a created_time\n",
    "interactions = interactions.sort_values(by='created_time')\n",
    "\n",
    "# Seleziona solo le prime 100 righe in ordine cronologico per ogni page_id\n",
    "top_interactions = interactions.groupby('page_id').head(100)\n",
    "\n",
    "# Trova il primo post e il valore di outreach corrispondente per ogni pagina\n",
    "first_outreach = top_interactions.loc[top_interactions.groupby('page_id')['created_time'].idxmin()]\n",
    "\n",
    "# Crea le classi omogenee per l'outreach usando i quantili\n",
    "quantiles = first_outreach['outreach'].quantile([0, 0.25, 0.5, 0.75, 1]).values\n",
    "labels = ['Molto Basso', 'Basso', 'Medio', 'Alto']\n",
    "first_outreach['outreach_binned'] = pd.cut(first_outreach['outreach'], bins=quantiles, labels=labels, include_lowest=True)\n",
    "\n",
    "# Mantieni solo le righe uniche nel DataFrame 'first_outreach' per il merge\n",
    "first_outreach_unique = first_outreach[['page_id', 'outreach_binned','outreach']].drop_duplicates('page_id')\n",
    "\n",
    "# Aggiungi la categoria al DataFrame 'pages' usando un merge\n",
    "pages = pages.merge(first_outreach_unique, on='page_id', how='left')\n",
    "\n",
    "# Stampa i limiti delle classi\n",
    "for label, lower, upper in zip(labels, quantiles[:-1], quantiles[1:]):\n",
    "    print(f\"Classe: {label}, Estremo inferiore: {lower:.2f}, Estremo superiore: {upper:.2f}\")\n",
    "\n",
    "# Rinomina le colonne di 'pages' se necessario\n",
    "pages.columns = ['page_id', 'TS_coverage(W)', 'initial_class_size', 'initial_size']\n"
   ]
  },
  {
   "cell_type": "markdown",
   "metadata": {},
   "source": [
    "Dividiamo l'outreach finale in 3 classi bilanciate."
   ]
  },
  {
   "cell_type": "code",
   "execution_count": 152,
   "metadata": {},
   "outputs": [
    {
     "name": "stdout",
     "output_type": "stream",
     "text": [
      "Classe: Molto Basso, Estremo inferiore: 0.00, Estremo superiore: 11.56\n",
      "Classe: Basso, Estremo inferiore: 11.56, Estremo superiore: 168.25\n",
      "Classe: Medio, Estremo inferiore: 168.25, Estremo superiore: 3163.12\n",
      "Classe: Alto, Estremo inferiore: 3163.12, Estremo superiore: 428301.75\n"
     ]
    }
   ],
   "source": [
    "# Trova il primo post e il valore di outreach corrispondente per ogni pagina\n",
    "interactions['created_time'] = pd.to_datetime(interactions['created_time'])\n",
    "last_outreach = interactions.loc[interactions.groupby('page_id')['created_time'].idxmax()]\n",
    "\n",
    "# Crea le classi omogenee per l'outreach usando i quantili\n",
    "quantiles = last_outreach['outreach'].quantile([0, 1/4, 1/2, 3/4, 1]).values\n",
    "labels = ['Molto Basso', 'Basso', 'Medio', 'Alto']\n",
    "last_outreach['outreach_binned'] = pd.cut(last_outreach['outreach'], bins=quantiles, labels=labels, include_lowest=True)\n",
    "\n",
    "# Mantieni solo le righe uniche nel DataFrame 'last_outreach' per il merge\n",
    "last_outreach_unique = last_outreach[['page_id', 'outreach_binned', 'outreach']].drop_duplicates('page_id')\n",
    "\n",
    "# Aggiungi la categoria al DataFrame 'pages' usando un merge\n",
    "pages = pages.merge(last_outreach_unique, on='page_id', how='left')\n",
    "\n",
    "# Stampa i limiti delle classi\n",
    "for label, lower, upper in zip(labels, quantiles[:-1], quantiles[1:]):\n",
    "    print(f\"Classe: {label}, Estremo inferiore: {lower:.2f}, Estremo superiore: {upper:.2f}\")\n",
    "\n",
    "# Aggiorna i nomi delle colonne nel DataFrame 'pages'\n",
    "pages.columns = ['page_id', 'TS_coverage(W)', 'initial_class_size', 'initial_size', 'last_class_size', 'last_size']\n"
   ]
  },
  {
   "cell_type": "markdown",
   "metadata": {},
   "source": [
    "Qual'è il delta della crescita tra prima e dopo."
   ]
  },
  {
   "cell_type": "code",
   "execution_count": 153,
   "metadata": {},
   "outputs": [],
   "source": [
    "pages['delta_growth']=pages['last_size']-pages['initial_size']"
   ]
  },
  {
   "cell_type": "markdown",
   "metadata": {},
   "source": [
    "In quale arco temporale lavorano."
   ]
  },
  {
   "cell_type": "code",
   "execution_count": 154,
   "metadata": {},
   "outputs": [],
   "source": [
    "interactions['created_time'] = pd.to_datetime(interactions['created_time'])\n",
    "diff_days = interactions.groupby('page_id')['created_time'].agg(max_date='max', min_date='min')\n",
    "diff_days['diff_days'] = (diff_days['max_date'] - diff_days['min_date']).dt.days\n",
    "pages = pages.merge(diff_days[['diff_days']], on='page_id', how='left')\n"
   ]
  },
  {
   "cell_type": "code",
   "execution_count": 155,
   "metadata": {},
   "outputs": [
    {
     "data": {
      "text/html": [
       "<div>\n",
       "<style scoped>\n",
       "    .dataframe tbody tr th:only-of-type {\n",
       "        vertical-align: middle;\n",
       "    }\n",
       "\n",
       "    .dataframe tbody tr th {\n",
       "        vertical-align: top;\n",
       "    }\n",
       "\n",
       "    .dataframe thead th {\n",
       "        text-align: right;\n",
       "    }\n",
       "</style>\n",
       "<table border=\"1\" class=\"dataframe\">\n",
       "  <thead>\n",
       "    <tr style=\"text-align: right;\">\n",
       "      <th></th>\n",
       "      <th>page_id</th>\n",
       "      <th>TS_coverage(W)</th>\n",
       "      <th>initial_class_size</th>\n",
       "      <th>initial_size</th>\n",
       "      <th>last_class_size</th>\n",
       "      <th>last_size</th>\n",
       "      <th>delta_growth</th>\n",
       "      <th>diff_days</th>\n",
       "    </tr>\n",
       "  </thead>\n",
       "  <tbody>\n",
       "    <tr>\n",
       "      <th>0</th>\n",
       "      <td>6533373917</td>\n",
       "      <td>306</td>\n",
       "      <td>Molto Basso</td>\n",
       "      <td>0.000</td>\n",
       "      <td>Alto</td>\n",
       "      <td>6003.125</td>\n",
       "      <td>6003.125</td>\n",
       "      <td>2061.0</td>\n",
       "    </tr>\n",
       "    <tr>\n",
       "      <th>1</th>\n",
       "      <td>7130088677</td>\n",
       "      <td>291</td>\n",
       "      <td>Molto Basso</td>\n",
       "      <td>0.500</td>\n",
       "      <td>Medio</td>\n",
       "      <td>185.625</td>\n",
       "      <td>185.125</td>\n",
       "      <td>1996.0</td>\n",
       "    </tr>\n",
       "    <tr>\n",
       "      <th>2</th>\n",
       "      <td>7155422274</td>\n",
       "      <td>306</td>\n",
       "      <td>Alto</td>\n",
       "      <td>64.750</td>\n",
       "      <td>Alto</td>\n",
       "      <td>47697.250</td>\n",
       "      <td>47632.500</td>\n",
       "      <td>2129.0</td>\n",
       "    </tr>\n",
       "    <tr>\n",
       "      <th>3</th>\n",
       "      <td>7711594722</td>\n",
       "      <td>307</td>\n",
       "      <td>Basso</td>\n",
       "      <td>3.250</td>\n",
       "      <td>Alto</td>\n",
       "      <td>3222.750</td>\n",
       "      <td>3219.500</td>\n",
       "      <td>2137.0</td>\n",
       "    </tr>\n",
       "    <tr>\n",
       "      <th>4</th>\n",
       "      <td>8260742627</td>\n",
       "      <td>306</td>\n",
       "      <td>Basso</td>\n",
       "      <td>1.750</td>\n",
       "      <td>Basso</td>\n",
       "      <td>16.375</td>\n",
       "      <td>14.625</td>\n",
       "      <td>2126.0</td>\n",
       "    </tr>\n",
       "    <tr>\n",
       "      <th>...</th>\n",
       "      <td>...</td>\n",
       "      <td>...</td>\n",
       "      <td>...</td>\n",
       "      <td>...</td>\n",
       "      <td>...</td>\n",
       "      <td>...</td>\n",
       "      <td>...</td>\n",
       "      <td>...</td>\n",
       "    </tr>\n",
       "    <tr>\n",
       "      <th>88</th>\n",
       "      <td>527351247377965</td>\n",
       "      <td>95</td>\n",
       "      <td>Medio</td>\n",
       "      <td>4.125</td>\n",
       "      <td>Basso</td>\n",
       "      <td>82.500</td>\n",
       "      <td>78.375</td>\n",
       "      <td>651.0</td>\n",
       "    </tr>\n",
       "    <tr>\n",
       "      <th>89</th>\n",
       "      <td>552321618120006</td>\n",
       "      <td>136</td>\n",
       "      <td>NaN</td>\n",
       "      <td>NaN</td>\n",
       "      <td>NaN</td>\n",
       "      <td>NaN</td>\n",
       "      <td>NaN</td>\n",
       "      <td>NaN</td>\n",
       "    </tr>\n",
       "    <tr>\n",
       "      <th>90</th>\n",
       "      <td>554092937948891</td>\n",
       "      <td>143</td>\n",
       "      <td>Medio</td>\n",
       "      <td>11.000</td>\n",
       "      <td>Basso</td>\n",
       "      <td>11.875</td>\n",
       "      <td>0.875</td>\n",
       "      <td>969.0</td>\n",
       "    </tr>\n",
       "    <tr>\n",
       "      <th>91</th>\n",
       "      <td>842786335748518</td>\n",
       "      <td>5</td>\n",
       "      <td>NaN</td>\n",
       "      <td>NaN</td>\n",
       "      <td>NaN</td>\n",
       "      <td>NaN</td>\n",
       "      <td>NaN</td>\n",
       "      <td>NaN</td>\n",
       "    </tr>\n",
       "    <tr>\n",
       "      <th>92</th>\n",
       "      <td>1512926715599838</td>\n",
       "      <td>94</td>\n",
       "      <td>Alto</td>\n",
       "      <td>524.875</td>\n",
       "      <td>Medio</td>\n",
       "      <td>1773.250</td>\n",
       "      <td>1248.375</td>\n",
       "      <td>561.0</td>\n",
       "    </tr>\n",
       "  </tbody>\n",
       "</table>\n",
       "<p>93 rows × 8 columns</p>\n",
       "</div>"
      ],
      "text/plain": [
       "             page_id  TS_coverage(W) initial_class_size  initial_size  \\\n",
       "0         6533373917             306        Molto Basso         0.000   \n",
       "1         7130088677             291        Molto Basso         0.500   \n",
       "2         7155422274             306               Alto        64.750   \n",
       "3         7711594722             307              Basso         3.250   \n",
       "4         8260742627             306              Basso         1.750   \n",
       "..               ...             ...                ...           ...   \n",
       "88   527351247377965              95              Medio         4.125   \n",
       "89   552321618120006             136                NaN           NaN   \n",
       "90   554092937948891             143              Medio        11.000   \n",
       "91   842786335748518               5                NaN           NaN   \n",
       "92  1512926715599838              94               Alto       524.875   \n",
       "\n",
       "   last_class_size  last_size  delta_growth  diff_days  \n",
       "0             Alto   6003.125      6003.125     2061.0  \n",
       "1            Medio    185.625       185.125     1996.0  \n",
       "2             Alto  47697.250     47632.500     2129.0  \n",
       "3             Alto   3222.750      3219.500     2137.0  \n",
       "4            Basso     16.375        14.625     2126.0  \n",
       "..             ...        ...           ...        ...  \n",
       "88           Basso     82.500        78.375      651.0  \n",
       "89             NaN        NaN           NaN        NaN  \n",
       "90           Basso     11.875         0.875      969.0  \n",
       "91             NaN        NaN           NaN        NaN  \n",
       "92           Medio   1773.250      1248.375      561.0  \n",
       "\n",
       "[93 rows x 8 columns]"
      ]
     },
     "execution_count": 155,
     "metadata": {},
     "output_type": "execute_result"
    }
   ],
   "source": [
    "pages"
   ]
  }
 ],
 "metadata": {
  "kernelspec": {
   "display_name": "Python 3",
   "language": "python",
   "name": "python3"
  },
  "language_info": {
   "codemirror_mode": {
    "name": "ipython",
    "version": 3
   },
   "file_extension": ".py",
   "mimetype": "text/x-python",
   "name": "python",
   "nbconvert_exporter": "python",
   "pygments_lexer": "ipython3",
   "version": "3.10.12"
  }
 },
 "nbformat": 4,
 "nbformat_minor": 2
}
